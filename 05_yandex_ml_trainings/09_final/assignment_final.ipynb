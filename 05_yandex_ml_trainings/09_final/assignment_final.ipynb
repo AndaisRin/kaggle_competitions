{
 "cells": [
  {
   "attachments": {},
   "cell_type": "markdown",
   "metadata": {},
   "source": [
    "## Финальное соревнование\n",
    "\n",
    "##### Автор: [Радослав Нейчев](https://www.linkedin.com/in/radoslav-neychev/), @neychev"
   ]
  },
  {
   "attachments": {},
   "cell_type": "markdown",
   "metadata": {},
   "source": [
    "В данном задании вас ждет неизвестная зависимость. Ваша основная задача: **построить две лучших модели**, минимизирующих среднеквадратичную ошибку (MSE):\n",
    "1. На первую модель не налагается ограничений.\n",
    "2. Вторая модель должна быть **линейной**, т.е. представлять собой линейную комбинацию признаков плюс свободный член: $\\boldsymbol{w}^{\\top}\\boldsymbol{x} + b$. При этом __вы можете использовать базовые математические операции для преобразования признаков__: np.exp, np.log, np.pow (полный список доступен в [документации](https://numpy.org/doc/stable/reference/routines.math.html)), а также линейные операции над ними (сумма, умножение на число и пр.). Для преобразования признаков вам будет необходимо написать функцию `my_transformation`. __Кол-во параметров (весов) используемых второй моделью не должно превышать 15 (включая свободный член).__\n",
    "\n",
    "Настоятельно рекомендуем написать код \"с нуля\", лишь поглядывая на готовые примеры, а не просто \"скопировать-вставить\". Это поможет вам в будущем писать код более уверенно"
   ]
  },
  {
   "cell_type": "code",
   "execution_count": 114,
   "metadata": {
    "ExecuteTime": {
     "end_time": "2023-12-03T14:25:50.871867Z",
     "start_time": "2023-12-03T14:25:50.663387400Z"
    }
   },
   "outputs": [],
   "source": [
    "import os\n",
    "import json\n",
    "\n",
    "import numpy as np\n",
    "from matplotlib import pyplot as plt\n",
    "from sklearn.linear_model import Ridge\n",
    "from sklearn.ensemble import RandomForestRegressor\n",
    "from sklearn.metrics import mean_squared_error\n",
    "from sklearn.model_selection import train_test_split"
   ]
  },
  {
   "cell_type": "code",
   "execution_count": 115,
   "outputs": [],
   "source": [
    "import pandas as pd\n",
    "\n",
    "from sklearn.linear_model import LinearRegression\n",
    "# Импорт библиотек для визуализации\n",
    "import matplotlib.pyplot as plt\n",
    "import phik\n",
    "from phik import report\n",
    "from phik.report import plot_correlation_matrix\n",
    "import seaborn as sns\n"
   ],
   "metadata": {
    "collapsed": false,
    "ExecuteTime": {
     "end_time": "2023-12-03T14:25:51.045520600Z",
     "start_time": "2023-12-03T14:25:50.675896700Z"
    }
   }
  },
  {
   "cell_type": "code",
   "execution_count": 116,
   "outputs": [],
   "source": [
    "# Фиксируем RandomState\n",
    "RANDOM_STATE = 42\n",
    "RANDOM_VAL = np.random.RandomState(42)"
   ],
   "metadata": {
    "collapsed": false,
    "ExecuteTime": {
     "end_time": "2023-12-03T14:25:51.079571500Z",
     "start_time": "2023-12-03T14:25:50.690455500Z"
    }
   }
  },
  {
   "cell_type": "markdown",
   "metadata": {},
   "source": [
    "Загрузка данных происходит ниже. Если она не срабатывает, самостоятельно скачайте файл `hw_final_open_data.npy` и положите его в ту же директорию, что и ноутбук."
   ]
  },
  {
   "cell_type": "code",
   "execution_count": 117,
   "metadata": {
    "ExecuteTime": {
     "end_time": "2023-12-03T14:25:51.104337500Z",
     "start_time": "2023-12-03T14:25:50.706973300Z"
    }
   },
   "outputs": [
    {
     "name": "stderr",
     "output_type": "stream",
     "text": [
      "\"wget\" ­Ґ пў«пҐвбп ў­гваҐ­­Ґ© Ё«Ё ў­Ґи­Ґ©\n",
      "Є®¬ ­¤®©, ЁбЇ®«­пҐ¬®© Їа®Ја ¬¬®© Ё«Ё Ї ЄҐв­л¬ д ©«®¬.\n",
      "\"wget\" ­Ґ пў«пҐвбп ў­гваҐ­­Ґ© Ё«Ё ў­Ґи­Ґ©\n",
      "Є®¬ ­¤®©, ЁбЇ®«­пҐ¬®© Їа®Ја ¬¬®© Ё«Ё Ї ЄҐв­л¬ д ©«®¬.\n"
     ]
    }
   ],
   "source": [
    "!wget https://raw.githubusercontent.com/girafe-ai/ml-course/23f_yandex_ml_trainings/homeworks/assignment_final/hw_final_open_data.npy -O hw_final_open_data.npy\n",
    "!wget https://raw.githubusercontent.com/girafe-ai/ml-course/23f_yandex_ml_trainings/homeworks/assignment_final/hw_final_open_target.npy -O hw_final_open_data.npy"
   ]
  },
  {
   "cell_type": "code",
   "execution_count": 118,
   "metadata": {
    "ExecuteTime": {
     "end_time": "2023-12-03T14:25:51.104337500Z",
     "start_time": "2023-12-03T14:25:50.778011Z"
    }
   },
   "outputs": [],
   "source": [
    "assert os.path.exists('hw_final_open_data.npy'), 'Please, download `hw_final_open_data.npy` and place it in the working directory'\n",
    "assert os.path.exists('hw_final_open_target.npy'), 'Please, download `hw_final_open_target.npy` and place it in the working directory'\n",
    "data = np.load('hw_final_open_data.npy', allow_pickle=False)\n",
    "target = np.load('hw_final_open_target.npy', allow_pickle=False)"
   ]
  },
  {
   "cell_type": "markdown",
   "metadata": {},
   "source": [
    "Разбивка на `train` и `val` опциональна и сделана для вашего удобства."
   ]
  },
  {
   "cell_type": "code",
   "execution_count": 119,
   "metadata": {
    "ExecuteTime": {
     "end_time": "2023-12-03T14:25:51.105338400Z",
     "start_time": "2023-12-03T14:25:50.783519900Z"
    }
   },
   "outputs": [],
   "source": [
    "train_x, valid_x, train_y, valid_y = train_test_split(data, target, test_size=0.3)"
   ]
  },
  {
   "cell_type": "code",
   "execution_count": 120,
   "outputs": [],
   "source": [
    "# train = np.column_stack((train_x, train_y))  # Используя np.column_stack()\n",
    "\n",
    "# Преобразование в Pandas DataFrame\n",
    "train = pd.DataFrame(np.column_stack((train_x, train_y)))"
   ],
   "metadata": {
    "collapsed": false,
    "ExecuteTime": {
     "end_time": "2023-12-03T14:25:51.105338400Z",
     "start_time": "2023-12-03T14:25:50.797544800Z"
    }
   }
  },
  {
   "cell_type": "code",
   "execution_count": 121,
   "outputs": [],
   "source": [
    "feature_columns = [f\"{i}\" for i in range(train_x.shape[1])]\n",
    "column_names = feature_columns + ['target']  # Список имен столбцов\n",
    "train.columns = column_names\n",
    "\n",
    "# Переименование столбца с целевой переменной в 'target'\n",
    "train = train.rename(columns={'target': 'target_reg'})  # Замените 'target_column_name' на ваше желаемое имя столбца"
   ],
   "metadata": {
    "collapsed": false,
    "ExecuteTime": {
     "end_time": "2023-12-03T14:25:51.105338400Z",
     "start_time": "2023-12-03T14:25:50.813066700Z"
    }
   }
  },
  {
   "cell_type": "code",
   "execution_count": 122,
   "outputs": [],
   "source": [
    "# Функция оценки пропусков в таблице\n",
    "def pass_value_barh(data):\n",
    "    try:\n",
    "        missing_data = (data.isna().mean() * 100).to_frame().rename(columns={0: 'space'}).query('space > 0')\n",
    "        if not missing_data.empty:  # Проверка на наличие пропусков\n",
    "            missing_data.sort_values(by='space', ascending=True).plot(kind='barh', figsize=(20, 10), \n",
    "                                                                      legend=False, fontsize=10)\n",
    "            plt.title('Пропущенные значения, %' + \"\\n\", fontsize=22)\n",
    "            print('Всего значений в таблице {0}, из них пропущено от {1} до {2} значений, доля пропущенных '\n",
    "                  'равна от {3:.2%} до {4:.2%} в {5} столбцах.'.format(len(data),\n",
    "                                                                   min(i for i in data.isna().sum() if i > 0),\n",
    "                                                                   max(data.isna().sum()),\n",
    "                                                                   min(i for i in data.isna().sum() if i > 0) / len(data),\n",
    "                                                                   max(data.isna().sum()) / len(data),\n",
    "                                                                   (data.isna().sum(axis=0) > 0).sum()\n",
    "                                                                   ))\n",
    "        else:\n",
    "            print('пропусков не нашлось :) ')\n",
    "    except Exception as e:\n",
    "        print('Ошибка при обработке данных:', str(e))"
   ],
   "metadata": {
    "collapsed": false,
    "ExecuteTime": {
     "end_time": "2023-12-03T14:25:51.105338400Z",
     "start_time": "2023-12-03T14:25:50.830288200Z"
    }
   }
  },
  {
   "cell_type": "code",
   "execution_count": 123,
   "outputs": [],
   "source": [
    "def plot_info_on_numerical_column(df1, df2, feature_title, name):\n",
    "    # Функция для построения графика гистограммы с статистикой\n",
    "    def plot_histogram_with_statistics(data, title, label, color, line_color):\n",
    "        sns.histplot(data=data, x=feature_title, color=color, bins=50, kde=True, label=label, ax=ax, alpha=0.5)\n",
    "        mean_value = data[feature_title].mean()\n",
    "        median_value = data[feature_title].median()\n",
    "        ax.axvline(x=mean_value, color=line_color, lw=2, ls=':', \n",
    "                   label=f\"{label} mean: {mean_value:.2f}\")\n",
    "        ax.axvline(x=median_value, color=line_color, lw=2, ls='-.', \n",
    "                   label=f\"{label} median: {median_value:.2f}\")\n",
    "\n",
    "    # Создаем фигуру с одним подграфиком\n",
    "    fig, ax = plt.subplots(figsize=(10, 8))\n",
    "\n",
    "    if feature_title in df1.columns:\n",
    "        plot_histogram_with_statistics(df1, name, \"train\", \"#ef233c\", \"#2b2d42\")\n",
    "    else:\n",
    "        ax.text(0.5, 0.5, f\"Столбец '{feature_title}' отсутствует в {name[0]}\", horizontalalignment='center', \n",
    "                verticalalignment='center', transform=ax.transAxes)\n",
    "\n",
    "    if feature_title in df2.columns:\n",
    "        plot_histogram_with_statistics(df2, name, \"test\", \"#457b9d\", \"#e63946\")\n",
    "    else:\n",
    "        ax.text(0.5, 0.4, f\"Столбец '{feature_title}' отсутствует в {name[1]}\", horizontalalignment='center', \n",
    "                verticalalignment='center', transform=ax.transAxes)\n",
    "\n",
    "    ax.set_title(name[2])\n",
    "    ax.legend(fontsize=10, title_fontsize=10, loc='upper right')\n",
    "\n",
    "    plt.tight_layout()\n",
    "\n",
    "# Функция для построения графиков для списка признаков\n",
    "def plot_df_features_info(df1, df2, name):\n",
    "    print('')\n",
    "    print(name)\n",
    "    print('')\n",
    "\n",
    "    for column in df1.describe().columns:\n",
    "        plot_info_on_numerical_column(df1, df2, column, [\"train\", \"test\", name])"
   ],
   "metadata": {
    "collapsed": false,
    "ExecuteTime": {
     "end_time": "2023-12-03T14:25:51.105338400Z",
     "start_time": "2023-12-03T14:25:50.847308400Z"
    }
   }
  },
  {
   "cell_type": "code",
   "execution_count": 124,
   "outputs": [],
   "source": [
    "# Функция изучения данных в таблице\n",
    "def research_info(data, name):\n",
    "    rows_count, columns_count = data.shape\n",
    "    print('Данные {}'.format(name))\n",
    "    print('Количество стобцов:', columns_count)\n",
    "    print('Количество строк:', rows_count)\n",
    "    print('Дубликатов: {}'.format(data.duplicated().sum()))\n",
    "    data.info()\n",
    "    display(data.sample(n=5))\n",
    "    display(data.describe())\n",
    "    pass_value_barh(data)"
   ],
   "metadata": {
    "collapsed": false,
    "ExecuteTime": {
     "end_time": "2023-12-03T14:25:51.106336600Z",
     "start_time": "2023-12-03T14:25:50.860356100Z"
    }
   }
  },
  {
   "cell_type": "code",
   "execution_count": 125,
   "outputs": [
    {
     "name": "stdout",
     "output_type": "stream",
     "text": [
      "Данные о тренировочном наборе\n",
      "Количество стобцов: 8\n",
      "Количество строк: 560\n",
      "Дубликатов: 0\n",
      "<class 'pandas.core.frame.DataFrame'>\n",
      "RangeIndex: 560 entries, 0 to 559\n",
      "Data columns (total 8 columns):\n",
      " #   Column      Non-Null Count  Dtype  \n",
      "---  ------      --------------  -----  \n",
      " 0   0           560 non-null    float64\n",
      " 1   1           560 non-null    float64\n",
      " 2   2           560 non-null    float64\n",
      " 3   3           560 non-null    float64\n",
      " 4   4           560 non-null    float64\n",
      " 5   5           560 non-null    float64\n",
      " 6   6           560 non-null    float64\n",
      " 7   target_reg  560 non-null    float64\n",
      "dtypes: float64(8)\n",
      "memory usage: 35.1 KB\n"
     ]
    },
    {
     "data": {
      "text/plain": "            0         1        2         3         4         5         6  \\\n429 -0.560162  1.074575 -0.56863  0.379307 -0.479721  3.450427 -0.575438   \n241 -0.563300 -0.137595 -0.56863 -0.183105 -0.509765  0.583120 -0.575438   \n540 -0.561548  0.348070 -0.56863  0.067785 -0.494326  1.755891 -0.575438   \n156 -0.561035  0.570104 -0.56863  0.168659 -0.489200  2.279394 -0.575438   \n491 -0.562143  0.142360 -0.56863 -0.032128 -0.499919  1.264792 -0.575438   \n\n     target_reg  \n429    7.336945  \n241    2.334507  \n540    4.329986  \n156    4.842217  \n491    2.963908  ",
      "text/html": "<div>\n<style scoped>\n    .dataframe tbody tr th:only-of-type {\n        vertical-align: middle;\n    }\n\n    .dataframe tbody tr th {\n        vertical-align: top;\n    }\n\n    .dataframe thead th {\n        text-align: right;\n    }\n</style>\n<table border=\"1\" class=\"dataframe\">\n  <thead>\n    <tr style=\"text-align: right;\">\n      <th></th>\n      <th>0</th>\n      <th>1</th>\n      <th>2</th>\n      <th>3</th>\n      <th>4</th>\n      <th>5</th>\n      <th>6</th>\n      <th>target_reg</th>\n    </tr>\n  </thead>\n  <tbody>\n    <tr>\n      <th>429</th>\n      <td>-0.560162</td>\n      <td>1.074575</td>\n      <td>-0.56863</td>\n      <td>0.379307</td>\n      <td>-0.479721</td>\n      <td>3.450427</td>\n      <td>-0.575438</td>\n      <td>7.336945</td>\n    </tr>\n    <tr>\n      <th>241</th>\n      <td>-0.563300</td>\n      <td>-0.137595</td>\n      <td>-0.56863</td>\n      <td>-0.183105</td>\n      <td>-0.509765</td>\n      <td>0.583120</td>\n      <td>-0.575438</td>\n      <td>2.334507</td>\n    </tr>\n    <tr>\n      <th>540</th>\n      <td>-0.561548</td>\n      <td>0.348070</td>\n      <td>-0.56863</td>\n      <td>0.067785</td>\n      <td>-0.494326</td>\n      <td>1.755891</td>\n      <td>-0.575438</td>\n      <td>4.329986</td>\n    </tr>\n    <tr>\n      <th>156</th>\n      <td>-0.561035</td>\n      <td>0.570104</td>\n      <td>-0.56863</td>\n      <td>0.168659</td>\n      <td>-0.489200</td>\n      <td>2.279394</td>\n      <td>-0.575438</td>\n      <td>4.842217</td>\n    </tr>\n    <tr>\n      <th>491</th>\n      <td>-0.562143</td>\n      <td>0.142360</td>\n      <td>-0.56863</td>\n      <td>-0.032128</td>\n      <td>-0.499919</td>\n      <td>1.264792</td>\n      <td>-0.575438</td>\n      <td>2.963908</td>\n    </tr>\n  </tbody>\n</table>\n</div>"
     },
     "metadata": {},
     "output_type": "display_data"
    },
    {
     "data": {
      "text/plain": "                0           1             2           3           4  \\\ncount  560.000000  560.000000  5.600000e+02  560.000000  560.000000   \nmean    -0.562412    0.258271 -5.686305e-01   -0.000727   -0.500573   \nstd      0.001941    0.515823  1.444095e-12    0.258000    0.016205   \nmin     -0.567454   -0.507269 -5.686305e-01   -0.448910   -0.536785   \n25%     -0.563718   -0.209950 -5.686305e-01   -0.226384   -0.513030   \n50%     -0.561954    0.202505 -5.686305e-01   -0.002149   -0.498178   \n75%     -0.560820    0.678503 -5.686305e-01    0.215839   -0.486949   \nmax     -0.559918    1.250293 -5.686305e-01    0.448173   -0.476899   \n\n                5             6  target_reg  \ncount  560.000000  5.600000e+02  560.000000  \nmean     1.519405 -5.754376e-01    3.704544  \nstd      1.235348  1.926933e-11    2.197919  \nmin     -0.367869 -5.754376e-01   -0.607470  \n25%      0.403373 -5.754376e-01    1.774909  \n50%      1.409081 -5.754376e-01    3.633106  \n75%      2.532959 -5.754376e-01    5.467735  \nmax      3.853662 -5.754376e-01    8.013126  ",
      "text/html": "<div>\n<style scoped>\n    .dataframe tbody tr th:only-of-type {\n        vertical-align: middle;\n    }\n\n    .dataframe tbody tr th {\n        vertical-align: top;\n    }\n\n    .dataframe thead th {\n        text-align: right;\n    }\n</style>\n<table border=\"1\" class=\"dataframe\">\n  <thead>\n    <tr style=\"text-align: right;\">\n      <th></th>\n      <th>0</th>\n      <th>1</th>\n      <th>2</th>\n      <th>3</th>\n      <th>4</th>\n      <th>5</th>\n      <th>6</th>\n      <th>target_reg</th>\n    </tr>\n  </thead>\n  <tbody>\n    <tr>\n      <th>count</th>\n      <td>560.000000</td>\n      <td>560.000000</td>\n      <td>5.600000e+02</td>\n      <td>560.000000</td>\n      <td>560.000000</td>\n      <td>560.000000</td>\n      <td>5.600000e+02</td>\n      <td>560.000000</td>\n    </tr>\n    <tr>\n      <th>mean</th>\n      <td>-0.562412</td>\n      <td>0.258271</td>\n      <td>-5.686305e-01</td>\n      <td>-0.000727</td>\n      <td>-0.500573</td>\n      <td>1.519405</td>\n      <td>-5.754376e-01</td>\n      <td>3.704544</td>\n    </tr>\n    <tr>\n      <th>std</th>\n      <td>0.001941</td>\n      <td>0.515823</td>\n      <td>1.444095e-12</td>\n      <td>0.258000</td>\n      <td>0.016205</td>\n      <td>1.235348</td>\n      <td>1.926933e-11</td>\n      <td>2.197919</td>\n    </tr>\n    <tr>\n      <th>min</th>\n      <td>-0.567454</td>\n      <td>-0.507269</td>\n      <td>-5.686305e-01</td>\n      <td>-0.448910</td>\n      <td>-0.536785</td>\n      <td>-0.367869</td>\n      <td>-5.754376e-01</td>\n      <td>-0.607470</td>\n    </tr>\n    <tr>\n      <th>25%</th>\n      <td>-0.563718</td>\n      <td>-0.209950</td>\n      <td>-5.686305e-01</td>\n      <td>-0.226384</td>\n      <td>-0.513030</td>\n      <td>0.403373</td>\n      <td>-5.754376e-01</td>\n      <td>1.774909</td>\n    </tr>\n    <tr>\n      <th>50%</th>\n      <td>-0.561954</td>\n      <td>0.202505</td>\n      <td>-5.686305e-01</td>\n      <td>-0.002149</td>\n      <td>-0.498178</td>\n      <td>1.409081</td>\n      <td>-5.754376e-01</td>\n      <td>3.633106</td>\n    </tr>\n    <tr>\n      <th>75%</th>\n      <td>-0.560820</td>\n      <td>0.678503</td>\n      <td>-5.686305e-01</td>\n      <td>0.215839</td>\n      <td>-0.486949</td>\n      <td>2.532959</td>\n      <td>-5.754376e-01</td>\n      <td>5.467735</td>\n    </tr>\n    <tr>\n      <th>max</th>\n      <td>-0.559918</td>\n      <td>1.250293</td>\n      <td>-5.686305e-01</td>\n      <td>0.448173</td>\n      <td>-0.476899</td>\n      <td>3.853662</td>\n      <td>-5.754376e-01</td>\n      <td>8.013126</td>\n    </tr>\n  </tbody>\n</table>\n</div>"
     },
     "metadata": {},
     "output_type": "display_data"
    },
    {
     "name": "stdout",
     "output_type": "stream",
     "text": [
      "пропусков не нашлось :) \n"
     ]
    }
   ],
   "source": [
    "research_info(train, 'о тренировочном наборе')"
   ],
   "metadata": {
    "collapsed": false,
    "ExecuteTime": {
     "end_time": "2023-12-03T14:25:51.107336700Z",
     "start_time": "2023-12-03T14:25:50.875867700Z"
    }
   }
  },
  {
   "cell_type": "code",
   "execution_count": 126,
   "outputs": [
    {
     "name": "stdout",
     "output_type": "stream",
     "text": [
      "interval columns not set, guessing: ['0', '1', '2', '3', '4', '5', '6', 'target_reg']\n"
     ]
    },
    {
     "data": {
      "text/plain": "<Figure size 1100x600 with 2 Axes>",
      "image/png": "[encoded data removed]"
     },
     "metadata": {},
     "output_type": "display_data"
    }
   ],
   "source": [
    "phik_overview = train.phik_matrix().round(2).sort_values('target_reg')\n",
    "\n",
    "plot_correlation_matrix(phik_overview.values, \n",
    "                        x_labels=phik_overview.columns, \n",
    "                        y_labels=phik_overview.index, \n",
    "                        vmin=0, vmax=1, color_map=\"Greens\", \n",
    "                        title=r\"correlation phi_K\", \n",
    "                        fontsize_factor=0.8, figsize=(11, 6))\n",
    "plt.tight_layout()"
   ],
   "metadata": {
    "collapsed": false,
    "ExecuteTime": {
     "end_time": "2023-12-03T14:25:51.530466300Z",
     "start_time": "2023-12-03T14:25:50.920527900Z"
    }
   }
  },
  {
   "cell_type": "code",
   "execution_count": 127,
   "outputs": [
    {
     "data": {
      "text/plain": "               0     1     2     3     4     5     6  target_reg\n2           0.48  0.00  1.00  0.15  0.36  0.00  1.00        0.32\n6           0.59  0.00  1.00  0.08  0.44  0.00  1.00        0.39\n0           1.00  0.96  0.48  0.97  0.99  0.97  0.59        0.95\n3           0.97  0.99  0.15  1.00  0.98  0.98  0.08        0.96\n4           0.99  0.98  0.36  0.98  1.00  0.98  0.44        0.96\n1           0.96  1.00  0.00  0.99  0.98  1.00  0.00        0.97\n5           0.97  1.00  0.00  0.98  0.98  1.00  0.00        0.97\ntarget_reg  0.95  0.97  0.32  0.96  0.96  0.97  0.39        1.00",
      "text/html": "<div>\n<style scoped>\n    .dataframe tbody tr th:only-of-type {\n        vertical-align: middle;\n    }\n\n    .dataframe tbody tr th {\n        vertical-align: top;\n    }\n\n    .dataframe thead th {\n        text-align: right;\n    }\n</style>\n<table border=\"1\" class=\"dataframe\">\n  <thead>\n    <tr style=\"text-align: right;\">\n      <th></th>\n      <th>0</th>\n      <th>1</th>\n      <th>2</th>\n      <th>3</th>\n      <th>4</th>\n      <th>5</th>\n      <th>6</th>\n      <th>target_reg</th>\n    </tr>\n  </thead>\n  <tbody>\n    <tr>\n      <th>2</th>\n      <td>0.48</td>\n      <td>0.00</td>\n      <td>1.00</td>\n      <td>0.15</td>\n      <td>0.36</td>\n      <td>0.00</td>\n      <td>1.00</td>\n      <td>0.32</td>\n    </tr>\n    <tr>\n      <th>6</th>\n      <td>0.59</td>\n      <td>0.00</td>\n      <td>1.00</td>\n      <td>0.08</td>\n      <td>0.44</td>\n      <td>0.00</td>\n      <td>1.00</td>\n      <td>0.39</td>\n    </tr>\n    <tr>\n      <th>0</th>\n      <td>1.00</td>\n      <td>0.96</td>\n      <td>0.48</td>\n      <td>0.97</td>\n      <td>0.99</td>\n      <td>0.97</td>\n      <td>0.59</td>\n      <td>0.95</td>\n    </tr>\n    <tr>\n      <th>3</th>\n      <td>0.97</td>\n      <td>0.99</td>\n      <td>0.15</td>\n      <td>1.00</td>\n      <td>0.98</td>\n      <td>0.98</td>\n      <td>0.08</td>\n      <td>0.96</td>\n    </tr>\n    <tr>\n      <th>4</th>\n      <td>0.99</td>\n      <td>0.98</td>\n      <td>0.36</td>\n      <td>0.98</td>\n      <td>1.00</td>\n      <td>0.98</td>\n      <td>0.44</td>\n      <td>0.96</td>\n    </tr>\n    <tr>\n      <th>1</th>\n      <td>0.96</td>\n      <td>1.00</td>\n      <td>0.00</td>\n      <td>0.99</td>\n      <td>0.98</td>\n      <td>1.00</td>\n      <td>0.00</td>\n      <td>0.97</td>\n    </tr>\n    <tr>\n      <th>5</th>\n      <td>0.97</td>\n      <td>1.00</td>\n      <td>0.00</td>\n      <td>0.98</td>\n      <td>0.98</td>\n      <td>1.00</td>\n      <td>0.00</td>\n      <td>0.97</td>\n    </tr>\n    <tr>\n      <th>target_reg</th>\n      <td>0.95</td>\n      <td>0.97</td>\n      <td>0.32</td>\n      <td>0.96</td>\n      <td>0.96</td>\n      <td>0.97</td>\n      <td>0.39</td>\n      <td>1.00</td>\n    </tr>\n  </tbody>\n</table>\n</div>"
     },
     "execution_count": 127,
     "metadata": {},
     "output_type": "execute_result"
    }
   ],
   "source": [
    "phik_overview"
   ],
   "metadata": {
    "collapsed": false,
    "ExecuteTime": {
     "end_time": "2023-12-03T14:25:51.619349800Z",
     "start_time": "2023-12-03T14:25:51.531468600Z"
    }
   }
  },
  {
   "cell_type": "markdown",
   "metadata": {},
   "source": [
    "### Модель №1\n",
    "Напоминаем, в первой части задания ваша основная задача – получить наилучший результат без ограничений на модель. Сдаваться будут только предсказания модели.\n",
    "\n",
    "Пример с использованием Random Forest доступен ниже."
   ]
  },
  {
   "cell_type": "code",
   "execution_count": 128,
   "outputs": [],
   "source": [
    "def my_transformation(feature_matrix: np.ndarray):\n",
    "    new_feature_matrix = np.zeros((feature_matrix.shape[0], feature_matrix.shape[1] + 1))\n",
    "    new_feature_matrix[:, :feature_matrix.shape[1]] = feature_matrix\n",
    "    new_feature_matrix[:, -1] = feature_matrix[:, 0] * feature_matrix[:, 1]\n",
    "    return new_feature_matrix\n",
    "\n",
    "\n",
    "transformed_train_x = my_transformation(train_x)"
   ],
   "metadata": {
    "collapsed": false,
    "ExecuteTime": {
     "end_time": "2023-12-03T14:25:51.620349800Z",
     "start_time": "2023-12-03T14:25:51.552268100Z"
    }
   }
  },
  {
   "cell_type": "code",
   "execution_count": 129,
   "metadata": {
    "ExecuteTime": {
     "end_time": "2023-12-03T14:25:51.620349800Z",
     "start_time": "2023-12-03T14:25:51.564777800Z"
    }
   },
   "outputs": [
    {
     "name": "stdout",
     "output_type": "stream",
     "text": [
      "train mse =\t 0.09280\n",
      "validation mse = 0.08500\n"
     ]
    }
   ],
   "source": [
    "# rf = RandomForestRegressor()\n",
    "# rf.fit(train_x, train_y)\n",
    "\n",
    "# lr = LinearRegression()\n",
    "lr = Ridge()\n",
    "lr.fit(transformed_train_x, train_y)\n",
    "\n",
    "print(\n",
    "    f'train mse =\\t {mean_squared_error(lr.predict(transformed_train_x), train_y):.5f}',\n",
    "    f'validation mse = {mean_squared_error(lr.predict(my_transformation(valid_x)), valid_y):.5f}',\n",
    "    sep='\\n'\n",
    ")\n",
    "\n",
    "# print(\n",
    "#     f'train mse =\\t {mean_squared_error(np.round(rf.predict(train_x), 2), np.round(train_y)):.5f}',\n",
    "#     f'validation mse = {mean_squared_error(np.round(rf.predict(valid_x)), np.round(valid_y)):.5f}',\n",
    "#     sep='\\n'\n",
    "# )"
   ]
  },
  {
   "cell_type": "markdown",
   "metadata": {},
   "source": [
    "##### Сдача первой части соревнования\n",
    "Загрузите файл `hw_final_closed_data.npy` (ссылка есть на странице с заданием). Если вы используете sklearn-совместимую модель, для генерации посылки вы можете воспользоваться функцией `get_predictions`. В ином случае перепишите функцию для вашей модели и запустите код под следующей ячейкой для генерации посылки."
   ]
  },
  {
   "cell_type": "code",
   "execution_count": 130,
   "metadata": {
    "ExecuteTime": {
     "end_time": "2023-12-03T14:25:51.777664500Z",
     "start_time": "2023-12-03T14:25:51.593815100Z"
    }
   },
   "outputs": [
    {
     "name": "stderr",
     "output_type": "stream",
     "text": [
      "\"wget\" ­Ґ пў«пҐвбп ў­гваҐ­­Ґ© Ё«Ё ў­Ґи­Ґ©\n",
      "Є®¬ ­¤®©, ЁбЇ®«­пҐ¬®© Їа®Ја ¬¬®© Ё«Ё Ї ЄҐв­л¬ д ©«®¬.\n"
     ]
    }
   ],
   "source": [
    "!wget https://raw.githubusercontent.com/girafe-ai/ml-course/23f_yandex_ml_trainings/homeworks/assignment_final/hw_final_closed_data.npy -O hw_final_closed_data.npy"
   ]
  },
  {
   "cell_type": "code",
   "execution_count": 131,
   "metadata": {
    "ExecuteTime": {
     "end_time": "2023-12-03T14:25:51.853767800Z",
     "start_time": "2023-12-03T14:25:51.641372500Z"
    }
   },
   "outputs": [],
   "source": [
    "assert os.path.exists('hw_final_closed_data.npy'), 'Please, download `hw_final_closed_data.npy` and place it in the working directory'\n",
    "closed_data = np.load('hw_final_closed_data.npy', allow_pickle=False)"
   ]
  },
  {
   "cell_type": "markdown",
   "metadata": {},
   "source": [
    "Если необходимо, преобразуйте данные. Преобразованную матрицу объект-признак сохраните в переменную `closed_data`."
   ]
  },
  {
   "cell_type": "code",
   "execution_count": 132,
   "metadata": {
    "ExecuteTime": {
     "end_time": "2023-12-03T14:25:51.870800500Z",
     "start_time": "2023-12-03T14:25:51.655883900Z"
    }
   },
   "outputs": [],
   "source": [
    "# optional transformations"
   ]
  },
  {
   "cell_type": "code",
   "execution_count": 133,
   "metadata": {
    "ExecuteTime": {
     "end_time": "2023-12-03T14:25:51.873802400Z",
     "start_time": "2023-12-03T14:25:51.672912500Z"
    }
   },
   "outputs": [],
   "source": [
    "def get_predictions(model, eval_data, step=10):\n",
    "    predicted_values = model.predict(eval_data)\n",
    "    return predicted_values"
   ]
  },
  {
   "cell_type": "markdown",
   "metadata": {},
   "source": [
    "Обращаем ваше внимание, предсказания округляются до сотых!"
   ]
  },
  {
   "cell_type": "code",
   "execution_count": 134,
   "metadata": {
    "ExecuteTime": {
     "end_time": "2023-12-03T14:25:51.873802400Z",
     "start_time": "2023-12-03T14:25:51.690486Z"
    }
   },
   "outputs": [],
   "source": [
    "predicted_values = np.round(get_predictions(model=lr, eval_data=my_transformation(closed_data)), 2)\n",
    "\n",
    "assert predicted_values.shape == (closed_data.shape[0], ) # predictions should be just one-dimensional array"
   ]
  },
  {
   "cell_type": "code",
   "execution_count": 135,
   "metadata": {
    "ExecuteTime": {
     "end_time": "2023-12-03T14:25:51.885884400Z",
     "start_time": "2023-12-03T14:25:51.702999400Z"
    }
   },
   "outputs": [
    {
     "name": "stdout",
     "output_type": "stream",
     "text": [
      "File saved to `submission_dict_final_p01.npy`\n"
     ]
    }
   ],
   "source": [
    "# do not change the code in the block below\n",
    "# __________start of block__________\n",
    "def float_list_to_comma_separated_str(_list):\n",
    "    _list = list(np.round(np.array(_list), 2))\n",
    "    return ','.join([str(x) for x in _list])\n",
    "\n",
    "submission_dict = {\n",
    "    'predictions': float_list_to_comma_separated_str(predicted_values)\n",
    "}\n",
    "with open('submission_dict_final_p01.json', 'w') as iofile:\n",
    "    json.dump(submission_dict, iofile)\n",
    "    \n",
    "print('File saved to `submission_dict_final_p01.npy`')\n",
    "# __________end of block__________"
   ]
  },
  {
   "cell_type": "markdown",
   "metadata": {},
   "source": [
    "### Модель №2\n",
    "Функция `my_transformation` принимает на вход матрицу объект-признак (`numpy.ndarray` типа `np.float`) и преобразует ее в новую матрицу. Данная функция может использовать только numpy-операции, а также арифметические действия.\n",
    "\n",
    "Для примера доступна функция ниже. Она лишь добавляет новый признак, представляющий собой произведение первого и второго исходных признаков (считая с нуля)."
   ]
  },
  {
   "cell_type": "code",
   "execution_count": 136,
   "metadata": {
    "ExecuteTime": {
     "end_time": "2023-12-03T14:25:51.885884400Z",
     "start_time": "2023-12-03T14:25:51.773160200Z"
    }
   },
   "outputs": [],
   "source": [
    "def my_transformation(feature_matrix: np.ndarray):\n",
    "    new_feature_matrix = np.zeros((feature_matrix.shape[0], feature_matrix.shape[1]+1))\n",
    "    new_feature_matrix[:, :feature_matrix.shape[1]] = feature_matrix\n",
    "    new_feature_matrix[:, -1] = feature_matrix[:, 0] * feature_matrix[:, 1]\n",
    "    return new_feature_matrix"
   ]
  },
  {
   "cell_type": "code",
   "execution_count": 137,
   "outputs": [],
   "source": [
    "# # Функция преобразования признаков\n",
    "# def my_transformation(feature_matrix):\n",
    "#     transformed_features = np.zeros((feature_matrix.shape[0], 5))\n",
    "# \n",
    "#     # Пример преобразования: вычисление логарифма, экспоненты и квадрата признаков\n",
    "#     transformed_features[:, 0] = np.log(np.abs(feature_matrix[:, 0]) + 1e-5)\n",
    "#     transformed_features[:, 1] = np.exp(feature_matrix[:, 1])\n",
    "#     transformed_features[:, 2] = np.square(feature_matrix[:, 2])\n",
    "#     transformed_features[:, 3] = np.power(feature_matrix[:, 3], 3)\n",
    "#     transformed_features[:, 4] = feature_matrix[:, 4] * feature_matrix[:, 5]\n",
    "# \n",
    "#     return transformed_features"
   ],
   "metadata": {
    "collapsed": false,
    "ExecuteTime": {
     "end_time": "2023-12-03T14:25:51.885884400Z",
     "start_time": "2023-12-03T14:25:51.773160200Z"
    }
   }
  },
  {
   "cell_type": "code",
   "execution_count": 138,
   "metadata": {
    "ExecuteTime": {
     "end_time": "2023-12-03T14:25:51.885884400Z",
     "start_time": "2023-12-03T14:25:51.773160200Z"
    }
   },
   "outputs": [],
   "source": [
    "transformed_train_x = my_transformation(train_x)"
   ]
  },
  {
   "cell_type": "code",
   "execution_count": 139,
   "metadata": {
    "ExecuteTime": {
     "end_time": "2023-12-03T14:25:51.888394Z",
     "start_time": "2023-12-03T14:25:51.773160200Z"
    }
   },
   "outputs": [
    {
     "name": "stdout",
     "output_type": "stream",
     "text": [
      "train mse =\t 0.09280\n",
      "validation mse = 0.08500\n"
     ]
    }
   ],
   "source": [
    "lr = Ridge()\n",
    "lr.fit(transformed_train_x, train_y)\n",
    "\n",
    "print(\n",
    "    f'train mse =\\t {mean_squared_error(lr.predict(transformed_train_x), train_y):.5f}',\n",
    "    f'validation mse = {mean_squared_error(lr.predict(my_transformation(valid_x)), valid_y):.5f}',\n",
    "    sep='\\n'\n",
    ")"
   ]
  },
  {
   "cell_type": "markdown",
   "metadata": {},
   "source": [
    "Обращаем ваше внимание, что параметры линейной модели будут округляться до __четырех знаков после запятой__. Это не должно сильно повлиять на качество предсказаний:"
   ]
  },
  {
   "cell_type": "code",
   "execution_count": 140,
   "metadata": {
    "ExecuteTime": {
     "end_time": "2023-12-03T14:25:51.888394Z",
     "start_time": "2023-12-03T14:25:51.781673900Z"
    }
   },
   "outputs": [],
   "source": [
    "original_predictions = lr.predict(transformed_train_x)\n",
    "rounded_predictions = transformed_train_x.dot(np.round(lr.coef_, 4)) + np.round(lr.intercept_, 4)\n",
    "\n",
    "\n",
    "assert np.allclose(original_predictions, rounded_predictions, atol=1e-3)"
   ]
  },
  {
   "cell_type": "markdown",
   "metadata": {},
   "source": [
    "Параметры вашей модели:"
   ]
  },
  {
   "cell_type": "code",
   "execution_count": 141,
   "metadata": {
    "ExecuteTime": {
     "end_time": "2023-12-03T14:25:51.889398200Z",
     "start_time": "2023-12-03T14:25:51.798208100Z"
    }
   },
   "outputs": [
    {
     "name": "stdout",
     "output_type": "stream",
     "text": [
      "w = [0.0141, 0.4274, 0.0, 0.6438, 0.0873, 1.3872, 0.0, -0.2536]\n",
      "b = 1.502\n"
     ]
    }
   ],
   "source": [
    "w_list = list(np.round(lr.coef_, 4))\n",
    "print(f'w = {list(np.round(lr.coef_, 4))}\\nb = {np.round(lr.intercept_, 4)}')"
   ]
  },
  {
   "cell_type": "markdown",
   "metadata": {},
   "source": [
    "Напоминаем, ваша модель не должна использовать более 15 параметров (14 весов плюс свободный член)."
   ]
  },
  {
   "cell_type": "code",
   "execution_count": 142,
   "metadata": {
    "ExecuteTime": {
     "end_time": "2023-12-03T14:25:51.889398200Z",
     "start_time": "2023-12-03T14:25:51.812726100Z"
    }
   },
   "outputs": [],
   "source": [
    "assert len(w_list) + 1 <= 15"
   ]
  },
  {
   "cell_type": "markdown",
   "metadata": {},
   "source": [
    "##### Сдача второй части соревнования\n",
    "Для сдачи вам достаточно отправить функцию `my_transformation` и параметры вашей модели в контест в задачу №2. Пример посылки доступен ниже. Имортирование `numpy` также необходимо."
   ]
  },
  {
   "cell_type": "code",
   "execution_count": 143,
   "metadata": {
    "ExecuteTime": {
     "end_time": "2023-12-03T14:25:51.889398200Z",
     "start_time": "2023-12-03T14:25:51.828743700Z"
    }
   },
   "outputs": [],
   "source": [
    "# __________example_submission_start__________\n",
    "import numpy as np\n",
    "def my_transformation(feature_matrix: np.ndarray):\n",
    "    new_feature_matrix = np.zeros((feature_matrix.shape[0], feature_matrix.shape[1]+1))\n",
    "    new_feature_matrix[:, :feature_matrix.shape[1]] = feature_matrix\n",
    "    new_feature_matrix[:, -1] = feature_matrix[:, 0\n",
    "    ] * feature_matrix[:, 1]\n",
    "    return new_feature_matrix\n",
    "\n",
    "w_submission = [0.0119, 0.4478, 0.0, 0.5941, 0.0755, 1.3903, 0.0, -0.2631]\n",
    "b_submission = 1.496\n",
    "# __________example_submission_end__________"
   ]
  },
  {
   "attachments": {},
   "cell_type": "markdown",
   "metadata": {},
   "source": [
    "На этом задание завершено. Поздравляем!"
   ]
  }
 ],
 "metadata": {
  "kernelspec": {
   "name": "python3",
   "language": "python",
   "display_name": "Python 3 (ipykernel)"
  },
  "language_info": {
   "codemirror_mode": {
    "name": "ipython",
    "version": 3
   },
   "file_extension": ".py",
   "mimetype": "text/x-python",
   "name": "python",
   "nbconvert_exporter": "python",
   "pygments_lexer": "ipython3",
   "version": "3.9.16"
  }
 },
 "nbformat": 4,
 "nbformat_minor": 4
}
