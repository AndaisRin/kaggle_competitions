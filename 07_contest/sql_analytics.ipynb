{
 "nbformat": 4,
 "nbformat_minor": 0,
 "metadata": {
  "colab": {
   "provenance": []
  },
  "kernelspec": {
   "name": "python3",
   "display_name": "Python 3"
  },
  "language_info": {
   "name": "python"
  }
 },
 "cells": [
  {
   "cell_type": "markdown",
   "source": [
    "# Задание по SQL\n",
    "\n",
    "Для проверки корректности выполнения задания сначала необходимо создать базу данных, содержащую таблицы Staff и Jobtitles.\n",
    "\n",
    "Первым делом необходимо подключить библиотеку sqlite3."
   ],
   "metadata": {
    "id": "KDYhCZpztcjT"
   }
  },
  {
   "cell_type": "code",
   "source": [
    "import sqlite3"
   ],
   "metadata": {
    "id": "RIYMI4O-uKuc"
   },
   "execution_count": null,
   "outputs": []
  },
  {
   "cell_type": "markdown",
   "source": [
    "Создаем БД"
   ],
   "metadata": {
    "id": "KCsmVypUuO5A"
   }
  },
  {
   "cell_type": "code",
   "source": [
    "# Подключаемся к базе данных (если базы данных нет, она будет создана)\n",
    "conn = sqlite3.connect('example.db')\n",
    "\n",
    "# Создаем объект-курсор для выполнения SQL-запросов\n",
    "cursor = conn.cursor()\n",
    "\n",
    "# Создаем таблицу Jobtitles\n",
    "cursor.execute('''\n",
    "    CREATE TABLE IF NOT EXISTS Jobtitles (\n",
    "        jobtitle_id INTEGER PRIMARY KEY,\n",
    "        name TEXT NOT NULL\n",
    "    )\n",
    "''')\n",
    "\n",
    "# Заполняем таблицу Jobtitles данными\n",
    "jobtitles_data = [\n",
    "    (1, 'Разработчик'),\n",
    "    (2, 'Системный аналитик'),\n",
    "    (3, 'Менеджер проектов'),\n",
    "    (4, 'Системный администратор'),\n",
    "    (5, 'Руководитель группы'),\n",
    "    (6, 'Инженер тестирования'),\n",
    "    (7, 'Сотрудник группы поддержки')\n",
    "]\n",
    "cursor.executemany('INSERT INTO Jobtitles VALUES (?, ?)', jobtitles_data)\n",
    "\n",
    "# Создаем таблицу Staff\n",
    "cursor.execute('''\n",
    "    CREATE TABLE IF NOT EXISTS Staff (\n",
    "        staff_id INTEGER PRIMARY KEY,\n",
    "        name TEXT NOT NULL,\n",
    "        salary REAL,\n",
    "        email TEXT,\n",
    "        birthday DATETIME,\n",
    "        jobtitle_id INTEGER,\n",
    "        FOREIGN KEY (jobtitle_id) REFERENCES Jobtitles(jobtitle_id)\n",
    "    )\n",
    "''')\n",
    "\n",
    "# Заполняем таблицу Staff данными\n",
    "staff_data = [\n",
    "    (1, 'Иванов Сергей', 100000, 'test@test.ru', '1990-03-03', 1),\n",
    "    (2, 'Петров Пётр', 60000, 'petr@test.ru', '2000-01-12', 7),\n",
    "    (3, 'Сидоров Василий', 80000, 'test@test.ru', '1999-04-02', 6),\n",
    "    (4, 'Максимов Иван', 70000, 'ivan.m@test.ru', '1997-02-10', 4),\n",
    "    (5, 'Попов Иван', 120000, 'popov@test.ru', '2001-04-25', 5)\n",
    "]\n",
    "cursor.executemany('INSERT INTO Staff VALUES (?, ?, ?, ?, ?, ?)', staff_data)\n",
    "\n",
    "# Подтверждаем изменения в базе данных\n",
    "conn.commit()"
   ],
   "metadata": {
    "id": "98vPw7lOuUr5"
   },
   "execution_count": null,
   "outputs": []
  },
  {
   "cell_type": "markdown",
   "source": [
    "***Задание 1.*** Напишите запрос, с помощью которого можно найти дубли в поле email из таблицы Sfaff."
   ],
   "metadata": {
    "id": "cfzIYgVyuaQ4"
   }
  },
  {
   "cell_type": "code",
   "source": [
    "cursor.execute('''\n",
    "    SELECT email\n",
    "    FROM Staff\n",
    "    GROUP BY email\n",
    "    HAVING COUNT(email) > 1\n",
    "''')\n",
    "duplicates = cursor.fetchall()\n",
    "print(\"Дубли в поле email:\")\n",
    "for row in duplicates:\n",
    "    print(row[0])"
   ],
   "metadata": {
    "colab": {
     "base_uri": "https://localhost:8080/"
    },
    "id": "1ftESejAurgh",
    "outputId": "6f2330ef-a575-4794-d39a-4e35700dc42b"
   },
   "execution_count": null,
   "outputs": [
    {
     "output_type": "stream",
     "name": "stdout",
     "text": [
      "Дубли в поле email:\n",
      "test@test.ru\n"
     ]
    }
   ]
  },
  {
   "cell_type": "markdown",
   "source": [
    "***Задание 2.*** Напишите запрос, с помощью которого можно определить возраст каждого сотрудника из таблицы Staff на момент запроса."
   ],
   "metadata": {
    "id": "i7i04Wj-uij8"
   }
  },
  {
   "cell_type": "code",
   "source": [
    "cursor.execute('''\n",
    "    SELECT name,\n",
    "           (CAST(strftime('%Y', 'now') AS INTEGER) - CAST(strftime('%Y', birthday) AS INTEGER)) -\n",
    "           (strftime('%m-%d', 'now') < strftime('%m-%d', birthday)) AS age\n",
    "    FROM Staff\n",
    "''')\n",
    "ages = cursor.fetchall()\n",
    "print(\"\\nВозраст каждого сотрудника:\")\n",
    "for row in ages:\n",
    "    print(row[0], \"-\", row[1])"
   ],
   "metadata": {
    "colab": {
     "base_uri": "https://localhost:8080/"
    },
    "id": "b2J89H3cuw_w",
    "outputId": "ec676d49-e7ba-46b7-b1bc-1955dadc5139"
   },
   "execution_count": null,
   "outputs": [
    {
     "output_type": "stream",
     "name": "stdout",
     "text": [
      "\n",
      "Возраст каждого сотрудника:\n",
      "Иванов Сергей - 33\n",
      "Петров Пётр - 24\n",
      "Сидоров Василий - 24\n",
      "Максимов Иван - 27\n",
      "Попов Иван - 22\n"
     ]
    }
   ]
  },
  {
   "cell_type": "markdown",
   "source": [
    "***Задание 3.*** Напишите запрос, с помощью которого можно определить должность (Jobtitles.name) со вторым по величине уровнем зарплаты."
   ],
   "metadata": {
    "id": "p-PB9__1ui0M"
   }
  },
  {
   "cell_type": "code",
   "source": [
    "cursor.execute('''\n",
    "    SELECT jt.name\n",
    "    FROM Jobtitles jt\n",
    "    JOIN Staff s ON jt.jobtitle_id = s.jobtitle_id\n",
    "    GROUP BY jt.name\n",
    "    ORDER BY AVG(s.salary) DESC LIMIT 1 OFFSET 1\n",
    "''')\n",
    "second_highest_salary_jobtitle = cursor.fetchone()\n",
    "print(\"\\nДолжность со вторым по величине уровнем зарплаты:\", second_highest_salary_jobtitle[0])"
   ],
   "metadata": {
    "colab": {
     "base_uri": "https://localhost:8080/"
    },
    "id": "mvd2hI3QuzAd",
    "outputId": "69aa55a9-03dc-46e4-cfa6-a0046221b052"
   },
   "execution_count": null,
   "outputs": [
    {
     "output_type": "stream",
     "name": "stdout",
     "text": [
      "\n",
      "Должность со вторым по величине уровнем зарплаты: Разработчик\n"
     ]
    }
   ]
  },
  {
   "cell_type": "code",
   "source": [
    "# Закрываем соединение с базой данных\n",
    "conn.close()"
   ],
   "metadata": {
    "id": "Jsu4i0GIu3bx"
   },
   "execution_count": null,
   "outputs": []
  }
 ]
}
