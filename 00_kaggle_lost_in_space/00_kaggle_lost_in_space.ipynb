{
 "cells": [
  {
   "cell_type": "markdown",
   "metadata": {
    "toc": true
   },
   "source": [
    "<h1>Table of Contents<span class=\"tocSkip\"></span></h1>\n",
    "<div class=\"toc\"><ul class=\"toc-item\"><li><span><a href=\"#Данные\" data-toc-modified-id=\"Данные-1\"><span class=\"toc-item-num\">1&nbsp;&nbsp;</span>Данные</a></span></li><li><span><a href=\"#Шаг-1.-Подготовка-данных\" data-toc-modified-id=\"Шаг-1.-Подготовка-данных-2\"><span class=\"toc-item-num\">2&nbsp;&nbsp;</span>Шаг 1. Подготовка данных</a></span></li><li><span><a href=\"#Шаг-2.-Работа-с-моделями\" data-toc-modified-id=\"Шаг-2.-Работа-с-моделями-3\"><span class=\"toc-item-num\">3&nbsp;&nbsp;</span>Шаг 2. Работа с моделями</a></span><ul class=\"toc-item\"><li><span><a href=\"#2.2-DecisionTreeClassifier\" data-toc-modified-id=\"2.2-DecisionTreeClassifier-3.1\"><span class=\"toc-item-num\">3.1&nbsp;&nbsp;</span>2.2 DecisionTreeClassifier</a></span></li><li><span><a href=\"#2.3-RandomForestClassifier\" data-toc-modified-id=\"2.3-RandomForestClassifier-3.2\"><span class=\"toc-item-num\">3.2&nbsp;&nbsp;</span>2.3 RandomForestClassifier</a></span></li><li><span><a href=\"#2.4-LGBMClassifier\" data-toc-modified-id=\"2.4-LGBMClassifier-3.3\"><span class=\"toc-item-num\">3.3&nbsp;&nbsp;</span>2.4 LGBMClassifier</a></span></li><li><span><a href=\"#2.5-CatBoostClassifier\" data-toc-modified-id=\"2.5-CatBoostClassifier-3.4\"><span class=\"toc-item-num\">3.4&nbsp;&nbsp;</span>2.5 CatBoostClassifier</a></span></li><li><span><a href=\"#2.6-DummyClassifier\" data-toc-modified-id=\"2.6-DummyClassifier-3.5\"><span class=\"toc-item-num\">3.5&nbsp;&nbsp;</span>2.6 DummyClassifier</a></span></li></ul></li><li><span><a href=\"#Шаг-3.-Подготовка-тестовой-выборки\" data-toc-modified-id=\"Шаг-3.-Подготовка-тестовой-выборки-4\"><span class=\"toc-item-num\">4&nbsp;&nbsp;</span>Шаг 3. Подготовка тестовой выборки</a></span></li><li><span><a href=\"#Шаг-4.-Вывод-решения\" data-toc-modified-id=\"Шаг-4.-Вывод-решения-5\"><span class=\"toc-item-num\">5&nbsp;&nbsp;</span>Шаг 4. Вывод решения</a></span></li></ul></div>"
   ]
  },
  {
   "cell_type": "markdown",
   "metadata": {},
   "source": [
    "# Описание задачи\n",
    "Задание из соревнования https://www.kaggle.com/competitions/lost-in-space/submissions\n",
    "\n",
    "Добро пожаловать в 2912 год, где ваши навыки работы с данными необходимы для разгадки космической тайны. Мы получили сообщение с расстояния четырех световых лет. Информация крайне тревожная…\n",
    "\n",
    "Космический корабль \"Последняя надежда\" был межзвездным пассажирским лайнером, запущенным месяц назад. С почти 10 000 пассажиров на борту судно отправилось в свой первый рейс, перевозя эмигрантов из нашей Солнечной системы на три новые пригодные для жизни экзопланеты, вращающиеся вокруг ближайших звезд.\n",
    "\n",
    "Огибая Альфу Центавра на пути к первому пункту назначения - торриду 44 Murato-E, космический корабль \"Последняя надежда\"столкнулся с пространственно-временной аномалией, скрытой в облаке пыли. К сожалению, его постигла та же участь что и многие корабли первопроходцев эпохи мореплавания в далеком прошлом планеты Земля…. Хотя корабль остался цел, почти половина пассажиров была перенесена в альтернативное измерение!\n",
    "\n",
    "Чтобы помочь спасателям и вернуть потерянных пассажиров, вам предстоит предсказать, какие пассажиры были перенесены аномалией, используя записи, извлеченные из поврежденной компьютерной системы корабля.\n",
    "\n",
    "Помогите спасти их и изменить историю! Да пребудет с вами сила ML!\n",
    "\n",
    "В этом конкурсе ваша задача - предсказать, был ли пассажир перенесен в альтернативное измерение во время столкновения космического корабля \"Последняя надежда\" с пространственно-временной аномалией. Чтобы помочь вам сделать эти прогнозы, вам дается набор личных записей, извлеченных из поврежденной компьютерной системы корабля.\n",
    "\n",
    "## Данные\n",
    "- train.csv - личные записи примерно двух третей (~7000) пассажиров, которые будут использоваться в качестве обучающих данных.\n",
    "- test.csv - личные дела оставшейся четверти (~1700) пассажиров, которые будут использоваться в качестве тестовых данных. Ваша задача - предсказать значение Transported для пассажиров из этого набора.\n",
    "- sample_submission.csv - файл представления в правильном формате.\n",
    "- PassengerId - идентификатор каждого пассажира в тестовом наборе.\n",
    "- Transported - Цель. Для каждого пассажира предскажите либо True, либо False.\n",
    "**Описание полей данных**\n",
    "- PassengerId - уникальный идентификатор для каждого пассажира. Каждый идентификатор имеет форму gggg_pp, где gggg указывает на группу, с которой путешествует пассажир, а pp - его номер в группе. Люди в группе часто являются членами семьи, но не всегда.\n",
    "- HomePlanet - планета, с которой отправился пассажир, обычно это планета его постоянного проживания.\n",
    "- CryoSleep - Указывает, решил ли пассажир погрузиться в состояние условной анимации на время путешествия. Пассажиры в криосне находятся в своих каютах.\n",
    "- Cabin - номер каюты, в которой находится пассажир. Имеет форму deck/num/side, где side может быть либо P для Port, либо S для Starboard.\n",
    "- Destination - планета, на которой будет высажен пассажир.\n",
    "- Age - Возраст пассажира.\n",
    "- VIP - Оплатил ли пассажир специальное VIP-обслуживание во время рейса.\n",
    "- RoomService, FoodCourt, ShoppingMall, Spa, VRDeck - Сумма, которую пассажир оплатил за каждое из многочисленных роскошных удобств космического корабля \"\"Последняя надежда\"\".\n",
    "- Name - Имя и фамилия пассажира.\n",
    "- Transported - Перенесен ли пассажир в другое измерение. Это цель, столбец, который вы пытаетесь предсказать."
   ]
  },
  {
   "cell_type": "markdown",
   "metadata": {},
   "source": [
    "## Шаг 1. Подготовка данных\n",
    "\n",
    "Установим необходимые библиотеки"
   ]
  },
  {
   "cell_type": "code",
   "execution_count": 1,
   "metadata": {},
   "outputs": [],
   "source": [
    "import pandas as pd\n",
    "import numpy as np\n",
    "import time\n",
    "\n",
    "from catboost import CatBoostClassifier\n",
    "from lightgbm import LGBMClassifier\n",
    "from sklearn.dummy import DummyClassifier\n",
    "from sklearn.ensemble import RandomForestClassifier\n",
    "from sklearn.tree import DecisionTreeClassifier\n",
    "\n",
    "from category_encoders import TargetEncoder\n",
    "from sklearn.model_selection import train_test_split\n",
    "from sklearn.metrics import accuracy_score\n",
    "\n",
    "import warnings\n",
    "\n",
    "warnings.filterwarnings('ignore')\n",
    "\n",
    "RANDOM_VAL = np.random.RandomState(42)\n",
    "RAND = 42"
   ]
  },
  {
   "cell_type": "code",
   "execution_count": 2,
   "metadata": {},
   "outputs": [],
   "source": [
    "space_train_data = pd.read_csv('train.csv')\n",
    "space_test_data = pd.read_csv('test.csv')"
   ]
  },
  {
   "cell_type": "code",
   "execution_count": 3,
   "metadata": {},
   "outputs": [],
   "source": [
    "# Функция изучения данных в таблице\n",
    "def research_info(data):\n",
    "    rows_count, columns_count = data.shape\n",
    "    print('Количество стобцов:', columns_count)\n",
    "    print('Количество строк:', rows_count)\n",
    "    print('Дубликатов: {} ({:.2%})'.format(data.duplicated().sum(), data.duplicated().sum() / len(data)))\n",
    "    print('Пропусков по разным признакам: {} '.format(data.isna().sum()))\n",
    "    display(data.sample(n=5))"
   ]
  },
  {
   "cell_type": "code",
   "execution_count": 4,
   "metadata": {},
   "outputs": [
    {
     "name": "stdout",
     "output_type": "stream",
     "text": [
      "Количество стобцов: 14\n",
      "Количество строк: 6954\n",
      "Дубликатов: 0 (0.00%)\n",
      "Пропусков по разным признакам: PassengerId       0\n",
      "HomePlanet      163\n",
      "CryoSleep       170\n",
      "Cabin           156\n",
      "Destination     141\n",
      "Age             143\n",
      "VIP             156\n",
      "RoomService     142\n",
      "FoodCourt       144\n",
      "ShoppingMall    162\n",
      "Spa             145\n",
      "VRDeck          147\n",
      "Name            160\n",
      "Transported       0\n",
      "dtype: int64 \n"
     ]
    },
    {
     "data": {
      "text/plain": "     PassengerId HomePlanet CryoSleep     Cabin    Destination   Age    VIP  \\\n6310     1730_01      Earth     False   E/106/P    55 Cancri e  17.0  False   \n5759     8493_01      Earth      True  G/1384/P  PSO J318.5-22  22.0  False   \n5227     0552_01     Europa      True    C/21/S    55 Cancri e  29.0  False   \n1671     3959_02      Earth     False   F/817/P    TRAPPIST-1e  28.0  False   \n414      3805_01      Earth     False   F/784/P    TRAPPIST-1e  36.0  False   \n\n      RoomService  FoodCourt  ShoppingMall  Spa  VRDeck             Name  \\\n6310         68.0        0.0           0.0  0.0   795.0     Elson Curton   \n5759          0.0        0.0           0.0  0.0     0.0    Hanna Goodson   \n5227          0.0        0.0           0.0  0.0     0.0  Minkab Brathful   \n1671        653.0        0.0           0.0  0.0    20.0  Elanie Sullones   \n414         357.0        0.0         114.0  0.0     NaN   Frandy Pacerty   \n\n      Transported  \n6310         True  \n5759        False  \n5227         True  \n1671        False  \n414         False  ",
      "text/html": "<div>\n<style scoped>\n    .dataframe tbody tr th:only-of-type {\n        vertical-align: middle;\n    }\n\n    .dataframe tbody tr th {\n        vertical-align: top;\n    }\n\n    .dataframe thead th {\n        text-align: right;\n    }\n</style>\n<table border=\"1\" class=\"dataframe\">\n  <thead>\n    <tr style=\"text-align: right;\">\n      <th></th>\n      <th>PassengerId</th>\n      <th>HomePlanet</th>\n      <th>CryoSleep</th>\n      <th>Cabin</th>\n      <th>Destination</th>\n      <th>Age</th>\n      <th>VIP</th>\n      <th>RoomService</th>\n      <th>FoodCourt</th>\n      <th>ShoppingMall</th>\n      <th>Spa</th>\n      <th>VRDeck</th>\n      <th>Name</th>\n      <th>Transported</th>\n    </tr>\n  </thead>\n  <tbody>\n    <tr>\n      <th>6310</th>\n      <td>1730_01</td>\n      <td>Earth</td>\n      <td>False</td>\n      <td>E/106/P</td>\n      <td>55 Cancri e</td>\n      <td>17.0</td>\n      <td>False</td>\n      <td>68.0</td>\n      <td>0.0</td>\n      <td>0.0</td>\n      <td>0.0</td>\n      <td>795.0</td>\n      <td>Elson Curton</td>\n      <td>True</td>\n    </tr>\n    <tr>\n      <th>5759</th>\n      <td>8493_01</td>\n      <td>Earth</td>\n      <td>True</td>\n      <td>G/1384/P</td>\n      <td>PSO J318.5-22</td>\n      <td>22.0</td>\n      <td>False</td>\n      <td>0.0</td>\n      <td>0.0</td>\n      <td>0.0</td>\n      <td>0.0</td>\n      <td>0.0</td>\n      <td>Hanna Goodson</td>\n      <td>False</td>\n    </tr>\n    <tr>\n      <th>5227</th>\n      <td>0552_01</td>\n      <td>Europa</td>\n      <td>True</td>\n      <td>C/21/S</td>\n      <td>55 Cancri e</td>\n      <td>29.0</td>\n      <td>False</td>\n      <td>0.0</td>\n      <td>0.0</td>\n      <td>0.0</td>\n      <td>0.0</td>\n      <td>0.0</td>\n      <td>Minkab Brathful</td>\n      <td>True</td>\n    </tr>\n    <tr>\n      <th>1671</th>\n      <td>3959_02</td>\n      <td>Earth</td>\n      <td>False</td>\n      <td>F/817/P</td>\n      <td>TRAPPIST-1e</td>\n      <td>28.0</td>\n      <td>False</td>\n      <td>653.0</td>\n      <td>0.0</td>\n      <td>0.0</td>\n      <td>0.0</td>\n      <td>20.0</td>\n      <td>Elanie Sullones</td>\n      <td>False</td>\n    </tr>\n    <tr>\n      <th>414</th>\n      <td>3805_01</td>\n      <td>Earth</td>\n      <td>False</td>\n      <td>F/784/P</td>\n      <td>TRAPPIST-1e</td>\n      <td>36.0</td>\n      <td>False</td>\n      <td>357.0</td>\n      <td>0.0</td>\n      <td>114.0</td>\n      <td>0.0</td>\n      <td>NaN</td>\n      <td>Frandy Pacerty</td>\n      <td>False</td>\n    </tr>\n  </tbody>\n</table>\n</div>"
     },
     "metadata": {},
     "output_type": "display_data"
    }
   ],
   "source": [
    "research_info(space_train_data)"
   ]
  },
  {
   "cell_type": "code",
   "execution_count": 5,
   "metadata": {},
   "outputs": [
    {
     "data": {
      "text/plain": "  IdGroup Passenger PassengerId HomePlanet CryoSleep     Cabin    Destination  \\\n0    6234        01     6234_01       Mars     False  F/1287/P  PSO J318.5-22   \n1    8826        01     8826_01     Europa     False   C/290/P    55 Cancri e   \n2    4453        01     4453_01     Europa     False   D/149/P    TRAPPIST-1e   \n3    0602        03     0602_03       Mars      True   F/125/P    TRAPPIST-1e   \n4    8796        01     8796_01      Earth     False  G/1418/S    TRAPPIST-1e   \n\n    Age    VIP  RoomService  FoodCourt  ShoppingMall     Spa  VRDeck  \\\n0  40.0   True        301.0        0.0        1310.0     4.0     NaN   \n1  13.0  False       1212.0     4485.0           0.0  4016.0    57.0   \n2  28.0  False          0.0     2560.0           0.0   134.0   307.0   \n3  21.0  False          0.0        0.0           0.0     0.0     0.0   \n4   6.0  False          0.0        0.0           0.0     0.0     0.0   \n\n              Name  Transported  \n0        Sters Bun         True  \n1   Marin Hednigic        False  \n2   Azhasim Inguel        False  \n3       Rana Brine         True  \n4  Daisya Traverdy         True  ",
      "text/html": "<div>\n<style scoped>\n    .dataframe tbody tr th:only-of-type {\n        vertical-align: middle;\n    }\n\n    .dataframe tbody tr th {\n        vertical-align: top;\n    }\n\n    .dataframe thead th {\n        text-align: right;\n    }\n</style>\n<table border=\"1\" class=\"dataframe\">\n  <thead>\n    <tr style=\"text-align: right;\">\n      <th></th>\n      <th>IdGroup</th>\n      <th>Passenger</th>\n      <th>PassengerId</th>\n      <th>HomePlanet</th>\n      <th>CryoSleep</th>\n      <th>Cabin</th>\n      <th>Destination</th>\n      <th>Age</th>\n      <th>VIP</th>\n      <th>RoomService</th>\n      <th>FoodCourt</th>\n      <th>ShoppingMall</th>\n      <th>Spa</th>\n      <th>VRDeck</th>\n      <th>Name</th>\n      <th>Transported</th>\n    </tr>\n  </thead>\n  <tbody>\n    <tr>\n      <th>0</th>\n      <td>6234</td>\n      <td>01</td>\n      <td>6234_01</td>\n      <td>Mars</td>\n      <td>False</td>\n      <td>F/1287/P</td>\n      <td>PSO J318.5-22</td>\n      <td>40.0</td>\n      <td>True</td>\n      <td>301.0</td>\n      <td>0.0</td>\n      <td>1310.0</td>\n      <td>4.0</td>\n      <td>NaN</td>\n      <td>Sters Bun</td>\n      <td>True</td>\n    </tr>\n    <tr>\n      <th>1</th>\n      <td>8826</td>\n      <td>01</td>\n      <td>8826_01</td>\n      <td>Europa</td>\n      <td>False</td>\n      <td>C/290/P</td>\n      <td>55 Cancri e</td>\n      <td>13.0</td>\n      <td>False</td>\n      <td>1212.0</td>\n      <td>4485.0</td>\n      <td>0.0</td>\n      <td>4016.0</td>\n      <td>57.0</td>\n      <td>Marin Hednigic</td>\n      <td>False</td>\n    </tr>\n    <tr>\n      <th>2</th>\n      <td>4453</td>\n      <td>01</td>\n      <td>4453_01</td>\n      <td>Europa</td>\n      <td>False</td>\n      <td>D/149/P</td>\n      <td>TRAPPIST-1e</td>\n      <td>28.0</td>\n      <td>False</td>\n      <td>0.0</td>\n      <td>2560.0</td>\n      <td>0.0</td>\n      <td>134.0</td>\n      <td>307.0</td>\n      <td>Azhasim Inguel</td>\n      <td>False</td>\n    </tr>\n    <tr>\n      <th>3</th>\n      <td>0602</td>\n      <td>03</td>\n      <td>0602_03</td>\n      <td>Mars</td>\n      <td>True</td>\n      <td>F/125/P</td>\n      <td>TRAPPIST-1e</td>\n      <td>21.0</td>\n      <td>False</td>\n      <td>0.0</td>\n      <td>0.0</td>\n      <td>0.0</td>\n      <td>0.0</td>\n      <td>0.0</td>\n      <td>Rana Brine</td>\n      <td>True</td>\n    </tr>\n    <tr>\n      <th>4</th>\n      <td>8796</td>\n      <td>01</td>\n      <td>8796_01</td>\n      <td>Earth</td>\n      <td>False</td>\n      <td>G/1418/S</td>\n      <td>TRAPPIST-1e</td>\n      <td>6.0</td>\n      <td>False</td>\n      <td>0.0</td>\n      <td>0.0</td>\n      <td>0.0</td>\n      <td>0.0</td>\n      <td>0.0</td>\n      <td>Daisya Traverdy</td>\n      <td>True</td>\n    </tr>\n  </tbody>\n</table>\n</div>"
     },
     "execution_count": 5,
     "metadata": {},
     "output_type": "execute_result"
    }
   ],
   "source": [
    "space_train_data[['IdGroup', 'Passenger']] = space_train_data['PassengerId'].str.split('_', expand=True)\n",
    "cols_to_move = ['IdGroup', 'Passenger']\n",
    "space_train_data = space_train_data[cols_to_move + [x for x in space_train_data.columns if x not in cols_to_move]]\n",
    "\n",
    "space_train_data.head()"
   ]
  },
  {
   "cell_type": "code",
   "execution_count": 6,
   "metadata": {},
   "outputs": [],
   "source": [
    "na_columns = ['HomePlanet', 'Cabin']\n",
    "for column in na_columns:\n",
    "    space_train_data.loc[space_train_data[column].isna(), column] = space_train_data.loc[\n",
    "        space_train_data[column].isna(), 'IdGroup'].map(space_train_data.groupby('IdGroup')[column].first())"
   ]
  },
  {
   "cell_type": "code",
   "execution_count": 7,
   "metadata": {},
   "outputs": [
    {
     "name": "stdout",
     "output_type": "stream",
     "text": [
      "Количество стобцов: 16\n",
      "Количество строк: 6954\n",
      "Дубликатов: 0 (0.00%)\n",
      "Пропусков по разным признакам: IdGroup           0\n",
      "Passenger         0\n",
      "PassengerId       0\n",
      "HomePlanet      103\n",
      "CryoSleep       170\n",
      "Cabin            91\n",
      "Destination     141\n",
      "Age             143\n",
      "VIP             156\n",
      "RoomService     142\n",
      "FoodCourt       144\n",
      "ShoppingMall    162\n",
      "Spa             145\n",
      "VRDeck          147\n",
      "Name            160\n",
      "Transported       0\n",
      "dtype: int64 \n"
     ]
    },
    {
     "data": {
      "text/plain": "     IdGroup Passenger PassengerId HomePlanet CryoSleep    Cabin  Destination  \\\n6350    3212        01     3212_01      Earth     False  E/212/S  TRAPPIST-1e   \n1145    1653        01     1653_01     Europa     False   A/19/S          NaN   \n2809    8860        04     8860_04       Mars     False  E/567/P  TRAPPIST-1e   \n1296    8878        01     8878_01      Earth     False  E/568/P  TRAPPIST-1e   \n2924    1223        01     1223_01     Europa      True   C/48/S  55 Cancri e   \n\n       Age    VIP  RoomService  FoodCourt  ShoppingMall     Spa  VRDeck  \\\n6350  24.0  False        180.0      264.0           0.0  1225.0     0.0   \n1145  47.0  False          4.0     1303.0         830.0   774.0     2.0   \n2809  33.0    NaN       1054.0        0.0         222.0    22.0     0.0   \n1296  22.0  False          0.0        0.0           0.0     0.0   906.0   \n2924  24.0  False          0.0        0.0           0.0     0.0     0.0   \n\n                   Name  Transported  \n6350  Philia Bellarkerd        False  \n1145   Phernar Oderient        False  \n2809       Appers Vloaf        False  \n1296       Tracek Rames        False  \n2924   Terope Coweboded         True  ",
      "text/html": "<div>\n<style scoped>\n    .dataframe tbody tr th:only-of-type {\n        vertical-align: middle;\n    }\n\n    .dataframe tbody tr th {\n        vertical-align: top;\n    }\n\n    .dataframe thead th {\n        text-align: right;\n    }\n</style>\n<table border=\"1\" class=\"dataframe\">\n  <thead>\n    <tr style=\"text-align: right;\">\n      <th></th>\n      <th>IdGroup</th>\n      <th>Passenger</th>\n      <th>PassengerId</th>\n      <th>HomePlanet</th>\n      <th>CryoSleep</th>\n      <th>Cabin</th>\n      <th>Destination</th>\n      <th>Age</th>\n      <th>VIP</th>\n      <th>RoomService</th>\n      <th>FoodCourt</th>\n      <th>ShoppingMall</th>\n      <th>Spa</th>\n      <th>VRDeck</th>\n      <th>Name</th>\n      <th>Transported</th>\n    </tr>\n  </thead>\n  <tbody>\n    <tr>\n      <th>6350</th>\n      <td>3212</td>\n      <td>01</td>\n      <td>3212_01</td>\n      <td>Earth</td>\n      <td>False</td>\n      <td>E/212/S</td>\n      <td>TRAPPIST-1e</td>\n      <td>24.0</td>\n      <td>False</td>\n      <td>180.0</td>\n      <td>264.0</td>\n      <td>0.0</td>\n      <td>1225.0</td>\n      <td>0.0</td>\n      <td>Philia Bellarkerd</td>\n      <td>False</td>\n    </tr>\n    <tr>\n      <th>1145</th>\n      <td>1653</td>\n      <td>01</td>\n      <td>1653_01</td>\n      <td>Europa</td>\n      <td>False</td>\n      <td>A/19/S</td>\n      <td>NaN</td>\n      <td>47.0</td>\n      <td>False</td>\n      <td>4.0</td>\n      <td>1303.0</td>\n      <td>830.0</td>\n      <td>774.0</td>\n      <td>2.0</td>\n      <td>Phernar Oderient</td>\n      <td>False</td>\n    </tr>\n    <tr>\n      <th>2809</th>\n      <td>8860</td>\n      <td>04</td>\n      <td>8860_04</td>\n      <td>Mars</td>\n      <td>False</td>\n      <td>E/567/P</td>\n      <td>TRAPPIST-1e</td>\n      <td>33.0</td>\n      <td>NaN</td>\n      <td>1054.0</td>\n      <td>0.0</td>\n      <td>222.0</td>\n      <td>22.0</td>\n      <td>0.0</td>\n      <td>Appers Vloaf</td>\n      <td>False</td>\n    </tr>\n    <tr>\n      <th>1296</th>\n      <td>8878</td>\n      <td>01</td>\n      <td>8878_01</td>\n      <td>Earth</td>\n      <td>False</td>\n      <td>E/568/P</td>\n      <td>TRAPPIST-1e</td>\n      <td>22.0</td>\n      <td>False</td>\n      <td>0.0</td>\n      <td>0.0</td>\n      <td>0.0</td>\n      <td>0.0</td>\n      <td>906.0</td>\n      <td>Tracek Rames</td>\n      <td>False</td>\n    </tr>\n    <tr>\n      <th>2924</th>\n      <td>1223</td>\n      <td>01</td>\n      <td>1223_01</td>\n      <td>Europa</td>\n      <td>True</td>\n      <td>C/48/S</td>\n      <td>55 Cancri e</td>\n      <td>24.0</td>\n      <td>False</td>\n      <td>0.0</td>\n      <td>0.0</td>\n      <td>0.0</td>\n      <td>0.0</td>\n      <td>0.0</td>\n      <td>Terope Coweboded</td>\n      <td>True</td>\n    </tr>\n  </tbody>\n</table>\n</div>"
     },
     "metadata": {},
     "output_type": "display_data"
    }
   ],
   "source": [
    "research_info(space_train_data)"
   ]
  },
  {
   "cell_type": "code",
   "execution_count": 8,
   "metadata": {},
   "outputs": [
    {
     "data": {
      "text/plain": "  IdGroup Passenger PassengerId HomePlanet CryoSleep     Cabin    Destination  \\\n0    6234        01     6234_01       Mars     False  F/1287/P  PSO J318.5-22   \n1    8826        01     8826_01     Europa     False   C/290/P    55 Cancri e   \n2    4453        01     4453_01     Europa     False   D/149/P    TRAPPIST-1e   \n3    0602        03     0602_03       Mars      True   F/125/P    TRAPPIST-1e   \n4    8796        01     8796_01      Earth     False  G/1418/S    TRAPPIST-1e   \n\n    Age    VIP  RoomService  FoodCourt  ShoppingMall     Spa  VRDeck  \\\n0  40.0   True        301.0        0.0        1310.0     4.0     NaN   \n1  13.0  False       1212.0     4485.0           0.0  4016.0    57.0   \n2  28.0  False          0.0     2560.0           0.0   134.0   307.0   \n3  21.0  False          0.0        0.0           0.0     0.0     0.0   \n4   6.0  False          0.0        0.0           0.0     0.0     0.0   \n\n              Name  Transported Cabin_deck Cabin_num Cabin_side  \n0        Sters Bun         True          F      1287          P  \n1   Marin Hednigic        False          C       290          P  \n2   Azhasim Inguel        False          D       149          P  \n3       Rana Brine         True          F       125          P  \n4  Daisya Traverdy         True          G      1418          S  ",
      "text/html": "<div>\n<style scoped>\n    .dataframe tbody tr th:only-of-type {\n        vertical-align: middle;\n    }\n\n    .dataframe tbody tr th {\n        vertical-align: top;\n    }\n\n    .dataframe thead th {\n        text-align: right;\n    }\n</style>\n<table border=\"1\" class=\"dataframe\">\n  <thead>\n    <tr style=\"text-align: right;\">\n      <th></th>\n      <th>IdGroup</th>\n      <th>Passenger</th>\n      <th>PassengerId</th>\n      <th>HomePlanet</th>\n      <th>CryoSleep</th>\n      <th>Cabin</th>\n      <th>Destination</th>\n      <th>Age</th>\n      <th>VIP</th>\n      <th>RoomService</th>\n      <th>FoodCourt</th>\n      <th>ShoppingMall</th>\n      <th>Spa</th>\n      <th>VRDeck</th>\n      <th>Name</th>\n      <th>Transported</th>\n      <th>Cabin_deck</th>\n      <th>Cabin_num</th>\n      <th>Cabin_side</th>\n    </tr>\n  </thead>\n  <tbody>\n    <tr>\n      <th>0</th>\n      <td>6234</td>\n      <td>01</td>\n      <td>6234_01</td>\n      <td>Mars</td>\n      <td>False</td>\n      <td>F/1287/P</td>\n      <td>PSO J318.5-22</td>\n      <td>40.0</td>\n      <td>True</td>\n      <td>301.0</td>\n      <td>0.0</td>\n      <td>1310.0</td>\n      <td>4.0</td>\n      <td>NaN</td>\n      <td>Sters Bun</td>\n      <td>True</td>\n      <td>F</td>\n      <td>1287</td>\n      <td>P</td>\n    </tr>\n    <tr>\n      <th>1</th>\n      <td>8826</td>\n      <td>01</td>\n      <td>8826_01</td>\n      <td>Europa</td>\n      <td>False</td>\n      <td>C/290/P</td>\n      <td>55 Cancri e</td>\n      <td>13.0</td>\n      <td>False</td>\n      <td>1212.0</td>\n      <td>4485.0</td>\n      <td>0.0</td>\n      <td>4016.0</td>\n      <td>57.0</td>\n      <td>Marin Hednigic</td>\n      <td>False</td>\n      <td>C</td>\n      <td>290</td>\n      <td>P</td>\n    </tr>\n    <tr>\n      <th>2</th>\n      <td>4453</td>\n      <td>01</td>\n      <td>4453_01</td>\n      <td>Europa</td>\n      <td>False</td>\n      <td>D/149/P</td>\n      <td>TRAPPIST-1e</td>\n      <td>28.0</td>\n      <td>False</td>\n      <td>0.0</td>\n      <td>2560.0</td>\n      <td>0.0</td>\n      <td>134.0</td>\n      <td>307.0</td>\n      <td>Azhasim Inguel</td>\n      <td>False</td>\n      <td>D</td>\n      <td>149</td>\n      <td>P</td>\n    </tr>\n    <tr>\n      <th>3</th>\n      <td>0602</td>\n      <td>03</td>\n      <td>0602_03</td>\n      <td>Mars</td>\n      <td>True</td>\n      <td>F/125/P</td>\n      <td>TRAPPIST-1e</td>\n      <td>21.0</td>\n      <td>False</td>\n      <td>0.0</td>\n      <td>0.0</td>\n      <td>0.0</td>\n      <td>0.0</td>\n      <td>0.0</td>\n      <td>Rana Brine</td>\n      <td>True</td>\n      <td>F</td>\n      <td>125</td>\n      <td>P</td>\n    </tr>\n    <tr>\n      <th>4</th>\n      <td>8796</td>\n      <td>01</td>\n      <td>8796_01</td>\n      <td>Earth</td>\n      <td>False</td>\n      <td>G/1418/S</td>\n      <td>TRAPPIST-1e</td>\n      <td>6.0</td>\n      <td>False</td>\n      <td>0.0</td>\n      <td>0.0</td>\n      <td>0.0</td>\n      <td>0.0</td>\n      <td>0.0</td>\n      <td>Daisya Traverdy</td>\n      <td>True</td>\n      <td>G</td>\n      <td>1418</td>\n      <td>S</td>\n    </tr>\n  </tbody>\n</table>\n</div>"
     },
     "execution_count": 8,
     "metadata": {},
     "output_type": "execute_result"
    }
   ],
   "source": [
    "space_train_data[['Cabin_deck', 'Cabin_num', 'Cabin_side']] = space_train_data['Cabin'].str.split('/', expand=True)\n",
    "space_train_data.head()"
   ]
  },
  {
   "cell_type": "code",
   "execution_count": 9,
   "metadata": {},
   "outputs": [
    {
     "name": "stdout",
     "output_type": "stream",
     "text": [
      "<class 'pandas.core.frame.DataFrame'>\n",
      "RangeIndex: 6954 entries, 0 to 6953\n",
      "Data columns (total 19 columns):\n",
      " #   Column        Non-Null Count  Dtype  \n",
      "---  ------        --------------  -----  \n",
      " 0   IdGroup       6954 non-null   object \n",
      " 1   Passenger     6954 non-null   object \n",
      " 2   PassengerId   6954 non-null   object \n",
      " 3   HomePlanet    6851 non-null   object \n",
      " 4   CryoSleep     6784 non-null   object \n",
      " 5   Cabin         6863 non-null   object \n",
      " 6   Destination   6813 non-null   object \n",
      " 7   Age           6811 non-null   float64\n",
      " 8   VIP           6798 non-null   object \n",
      " 9   RoomService   6812 non-null   float64\n",
      " 10  FoodCourt     6810 non-null   float64\n",
      " 11  ShoppingMall  6792 non-null   float64\n",
      " 12  Spa           6809 non-null   float64\n",
      " 13  VRDeck        6807 non-null   float64\n",
      " 14  Name          6794 non-null   object \n",
      " 15  Transported   6954 non-null   bool   \n",
      " 16  Cabin_deck    6863 non-null   object \n",
      " 17  Cabin_num     6863 non-null   object \n",
      " 18  Cabin_side    6863 non-null   object \n",
      "dtypes: bool(1), float64(6), object(12)\n",
      "memory usage: 984.8+ KB\n"
     ]
    }
   ],
   "source": [
    "space_train_data.info()"
   ]
  },
  {
   "cell_type": "code",
   "execution_count": 10,
   "metadata": {},
   "outputs": [],
   "source": [
    "planet_in = {'Mars': 0, 'Europa': 1, 'Earth': 2}\n",
    "space_train_data['HomePlanet'] = space_train_data['HomePlanet'].map(planet_in)"
   ]
  },
  {
   "cell_type": "code",
   "execution_count": 11,
   "metadata": {},
   "outputs": [],
   "source": [
    "planet_out = {'PSO J318.5-22': 0, '55 Cancri e': 1, 'TRAPPIST-1e': 2}\n",
    "space_train_data['Destination'] = space_train_data['Destination'].map(planet_out)"
   ]
  },
  {
   "cell_type": "code",
   "execution_count": 12,
   "metadata": {},
   "outputs": [],
   "source": [
    "space_train_data.loc[space_train_data['CryoSleep'] == True, 'RoomService': 'VRDeck'] = 0"
   ]
  },
  {
   "cell_type": "code",
   "execution_count": 13,
   "metadata": {},
   "outputs": [],
   "source": [
    "space_train_data['TotalSum'] = space_train_data[['RoomService', 'FoodCourt', 'ShoppingMall', 'Spa', 'VRDeck']].sum(\n",
    "    axis=1)"
   ]
  },
  {
   "cell_type": "code",
   "execution_count": 14,
   "metadata": {},
   "outputs": [],
   "source": [
    "space_train_data.loc[(space_train_data['TotalSum'] != 0), 'CryoSleep'] = space_train_data['CryoSleep'].fillna(False)\n",
    "space_train_data.loc[(space_train_data['TotalSum'] == 0), 'CryoSleep'] = space_train_data['CryoSleep'].fillna(True)\n",
    "space_train_data['CryoSleep'] = space_train_data['CryoSleep'].map({False: 0, True: 1})"
   ]
  },
  {
   "cell_type": "code",
   "execution_count": 15,
   "metadata": {},
   "outputs": [],
   "source": [
    "na_columns = ['RoomService', 'FoodCourt', 'ShoppingMall', 'Spa', 'VRDeck']\n",
    "space_train_data[na_columns] = space_train_data[na_columns].fillna(value=0)"
   ]
  },
  {
   "cell_type": "code",
   "execution_count": 16,
   "metadata": {},
   "outputs": [],
   "source": [
    "encoder = TargetEncoder()\n",
    "space_train_data['Cabin_deck_encoded'] = encoder.fit_transform(space_train_data['Cabin_deck'],\n",
    "                                                               space_train_data['Transported'])"
   ]
  },
  {
   "cell_type": "code",
   "execution_count": 17,
   "metadata": {},
   "outputs": [],
   "source": [
    "space_train_data['Cabin_side'] = space_train_data['Cabin_side'].map({'P': 0, 'S': 1})"
   ]
  },
  {
   "cell_type": "code",
   "execution_count": 18,
   "metadata": {},
   "outputs": [],
   "source": [
    "space_train_data[['IdGroup', 'Passenger', 'Cabin_num']] = space_train_data[['IdGroup', 'Passenger', 'Cabin_num']].apply(\n",
    "    pd.to_numeric)"
   ]
  },
  {
   "cell_type": "code",
   "execution_count": 19,
   "metadata": {},
   "outputs": [
    {
     "name": "stdout",
     "output_type": "stream",
     "text": [
      "Количество стобцов: 21\n",
      "Количество строк: 6954\n",
      "Дубликатов: 0 (0.00%)\n",
      "Пропусков по разным признакам: IdGroup                 0\n",
      "Passenger               0\n",
      "PassengerId             0\n",
      "HomePlanet            103\n",
      "CryoSleep               0\n",
      "Cabin                  91\n",
      "Destination           141\n",
      "Age                   143\n",
      "VIP                   156\n",
      "RoomService             0\n",
      "FoodCourt               0\n",
      "ShoppingMall            0\n",
      "Spa                     0\n",
      "VRDeck                  0\n",
      "Name                  160\n",
      "Transported             0\n",
      "Cabin_deck             91\n",
      "Cabin_num              91\n",
      "Cabin_side             91\n",
      "TotalSum                0\n",
      "Cabin_deck_encoded      0\n",
      "dtype: int64 \n"
     ]
    },
    {
     "data": {
      "text/plain": "      IdGroup  Passenger PassengerId  HomePlanet  CryoSleep     Cabin  \\\n2533      498          1     0498_01         1.0          1    B/18/S   \n457      5314          1     5314_01         1.0          0   C/208/S   \n5166     3853          1     3853_01         2.0          0   F/725/S   \n296      7990          1     7990_01         2.0          1  G/1294/P   \n2221     5568          2     5568_02         1.0          1   B/188/P   \n\n      Destination   Age    VIP  RoomService  ...  ShoppingMall  Spa  VRDeck  \\\n2533          1.0  27.0  False          0.0  ...           0.0  0.0     0.0   \n457           2.0  25.0    NaN          0.0  ...           0.0  0.0   168.0   \n5166          0.0  18.0  False         16.0  ...         735.0  0.0     0.0   \n296           1.0  21.0  False          0.0  ...           0.0  0.0     0.0   \n2221          1.0  29.0   True          0.0  ...           0.0  0.0     0.0   \n\n                  Name Transported  Cabin_deck Cabin_num  Cabin_side  \\\n2533    Batomam Preent        True           B      18.0         1.0   \n457      Skatik Arible        True           C     208.0         1.0   \n5166    Jeane Herreras        True           F     725.0         1.0   \n296     Becca Dorsenry        True           G    1294.0         0.0   \n2221  Merabik Covetive        True           B     188.0         0.0   \n\n      TotalSum  Cabin_deck_encoded  \n2533       0.0            0.730650  \n457     3793.0            0.686144  \n5166     757.0            0.442565  \n296        0.0            0.507506  \n2221       0.0            0.730650  \n\n[5 rows x 21 columns]",
      "text/html": "<div>\n<style scoped>\n    .dataframe tbody tr th:only-of-type {\n        vertical-align: middle;\n    }\n\n    .dataframe tbody tr th {\n        vertical-align: top;\n    }\n\n    .dataframe thead th {\n        text-align: right;\n    }\n</style>\n<table border=\"1\" class=\"dataframe\">\n  <thead>\n    <tr style=\"text-align: right;\">\n      <th></th>\n      <th>IdGroup</th>\n      <th>Passenger</th>\n      <th>PassengerId</th>\n      <th>HomePlanet</th>\n      <th>CryoSleep</th>\n      <th>Cabin</th>\n      <th>Destination</th>\n      <th>Age</th>\n      <th>VIP</th>\n      <th>RoomService</th>\n      <th>...</th>\n      <th>ShoppingMall</th>\n      <th>Spa</th>\n      <th>VRDeck</th>\n      <th>Name</th>\n      <th>Transported</th>\n      <th>Cabin_deck</th>\n      <th>Cabin_num</th>\n      <th>Cabin_side</th>\n      <th>TotalSum</th>\n      <th>Cabin_deck_encoded</th>\n    </tr>\n  </thead>\n  <tbody>\n    <tr>\n      <th>2533</th>\n      <td>498</td>\n      <td>1</td>\n      <td>0498_01</td>\n      <td>1.0</td>\n      <td>1</td>\n      <td>B/18/S</td>\n      <td>1.0</td>\n      <td>27.0</td>\n      <td>False</td>\n      <td>0.0</td>\n      <td>...</td>\n      <td>0.0</td>\n      <td>0.0</td>\n      <td>0.0</td>\n      <td>Batomam Preent</td>\n      <td>True</td>\n      <td>B</td>\n      <td>18.0</td>\n      <td>1.0</td>\n      <td>0.0</td>\n      <td>0.730650</td>\n    </tr>\n    <tr>\n      <th>457</th>\n      <td>5314</td>\n      <td>1</td>\n      <td>5314_01</td>\n      <td>1.0</td>\n      <td>0</td>\n      <td>C/208/S</td>\n      <td>2.0</td>\n      <td>25.0</td>\n      <td>NaN</td>\n      <td>0.0</td>\n      <td>...</td>\n      <td>0.0</td>\n      <td>0.0</td>\n      <td>168.0</td>\n      <td>Skatik Arible</td>\n      <td>True</td>\n      <td>C</td>\n      <td>208.0</td>\n      <td>1.0</td>\n      <td>3793.0</td>\n      <td>0.686144</td>\n    </tr>\n    <tr>\n      <th>5166</th>\n      <td>3853</td>\n      <td>1</td>\n      <td>3853_01</td>\n      <td>2.0</td>\n      <td>0</td>\n      <td>F/725/S</td>\n      <td>0.0</td>\n      <td>18.0</td>\n      <td>False</td>\n      <td>16.0</td>\n      <td>...</td>\n      <td>735.0</td>\n      <td>0.0</td>\n      <td>0.0</td>\n      <td>Jeane Herreras</td>\n      <td>True</td>\n      <td>F</td>\n      <td>725.0</td>\n      <td>1.0</td>\n      <td>757.0</td>\n      <td>0.442565</td>\n    </tr>\n    <tr>\n      <th>296</th>\n      <td>7990</td>\n      <td>1</td>\n      <td>7990_01</td>\n      <td>2.0</td>\n      <td>1</td>\n      <td>G/1294/P</td>\n      <td>1.0</td>\n      <td>21.0</td>\n      <td>False</td>\n      <td>0.0</td>\n      <td>...</td>\n      <td>0.0</td>\n      <td>0.0</td>\n      <td>0.0</td>\n      <td>Becca Dorsenry</td>\n      <td>True</td>\n      <td>G</td>\n      <td>1294.0</td>\n      <td>0.0</td>\n      <td>0.0</td>\n      <td>0.507506</td>\n    </tr>\n    <tr>\n      <th>2221</th>\n      <td>5568</td>\n      <td>2</td>\n      <td>5568_02</td>\n      <td>1.0</td>\n      <td>1</td>\n      <td>B/188/P</td>\n      <td>1.0</td>\n      <td>29.0</td>\n      <td>True</td>\n      <td>0.0</td>\n      <td>...</td>\n      <td>0.0</td>\n      <td>0.0</td>\n      <td>0.0</td>\n      <td>Merabik Covetive</td>\n      <td>True</td>\n      <td>B</td>\n      <td>188.0</td>\n      <td>0.0</td>\n      <td>0.0</td>\n      <td>0.730650</td>\n    </tr>\n  </tbody>\n</table>\n<p>5 rows × 21 columns</p>\n</div>"
     },
     "metadata": {},
     "output_type": "display_data"
    }
   ],
   "source": [
    "research_info(space_train_data)"
   ]
  },
  {
   "cell_type": "code",
   "execution_count": 20,
   "metadata": {},
   "outputs": [],
   "source": [
    "space_train_data = space_train_data.fillna(method='ffill')"
   ]
  },
  {
   "cell_type": "code",
   "execution_count": 21,
   "metadata": {},
   "outputs": [],
   "source": [
    "space_train_data.drop(['PassengerId', 'Cabin', 'Name', 'Cabin_deck', 'TotalSum'], axis=1, inplace=True)"
   ]
  },
  {
   "cell_type": "code",
   "execution_count": 22,
   "metadata": {},
   "outputs": [
    {
     "name": "stdout",
     "output_type": "stream",
     "text": [
      "Количество стобцов: 16\n",
      "Количество строк: 6954\n",
      "Дубликатов: 0 (0.00%)\n",
      "Пропусков по разным признакам: IdGroup               0\n",
      "Passenger             0\n",
      "HomePlanet            0\n",
      "CryoSleep             0\n",
      "Destination           0\n",
      "Age                   0\n",
      "VIP                   0\n",
      "RoomService           0\n",
      "FoodCourt             0\n",
      "ShoppingMall          0\n",
      "Spa                   0\n",
      "VRDeck                0\n",
      "Transported           0\n",
      "Cabin_num             0\n",
      "Cabin_side            0\n",
      "Cabin_deck_encoded    0\n",
      "dtype: int64 \n"
     ]
    },
    {
     "data": {
      "text/plain": "      IdGroup  Passenger  HomePlanet  CryoSleep  Destination   Age    VIP  \\\n5661     3169          1         2.0          0          2.0  26.0  False   \n5725     6034          3         0.0          0          2.0   8.0  False   \n1227     8043          1         1.0          0          1.0  45.0  False   \n493      1779          1         2.0          0          1.0  37.0  False   \n716      9008          2         2.0          1          2.0  25.0  False   \n\n      RoomService  FoodCourt  ShoppingMall   Spa  VRDeck  Transported  \\\n5661        207.0      350.0          74.0   0.0     3.0         True   \n5725          0.0        0.0           0.0   0.0     0.0         True   \n1227          5.0    17901.0           0.0  79.0   281.0         True   \n493         164.0      603.0           0.0   0.0    11.0         True   \n716           0.0        0.0           0.0   0.0     0.0        False   \n\n      Cabin_num  Cabin_side  Cabin_deck_encoded  \n5661      598.0         1.0            0.442565  \n5725      385.0         0.0            0.372028  \n1227       97.0         1.0            0.500000  \n493       349.0         0.0            0.442565  \n716      1745.0         1.0            0.442565  ",
      "text/html": "<div>\n<style scoped>\n    .dataframe tbody tr th:only-of-type {\n        vertical-align: middle;\n    }\n\n    .dataframe tbody tr th {\n        vertical-align: top;\n    }\n\n    .dataframe thead th {\n        text-align: right;\n    }\n</style>\n<table border=\"1\" class=\"dataframe\">\n  <thead>\n    <tr style=\"text-align: right;\">\n      <th></th>\n      <th>IdGroup</th>\n      <th>Passenger</th>\n      <th>HomePlanet</th>\n      <th>CryoSleep</th>\n      <th>Destination</th>\n      <th>Age</th>\n      <th>VIP</th>\n      <th>RoomService</th>\n      <th>FoodCourt</th>\n      <th>ShoppingMall</th>\n      <th>Spa</th>\n      <th>VRDeck</th>\n      <th>Transported</th>\n      <th>Cabin_num</th>\n      <th>Cabin_side</th>\n      <th>Cabin_deck_encoded</th>\n    </tr>\n  </thead>\n  <tbody>\n    <tr>\n      <th>5661</th>\n      <td>3169</td>\n      <td>1</td>\n      <td>2.0</td>\n      <td>0</td>\n      <td>2.0</td>\n      <td>26.0</td>\n      <td>False</td>\n      <td>207.0</td>\n      <td>350.0</td>\n      <td>74.0</td>\n      <td>0.0</td>\n      <td>3.0</td>\n      <td>True</td>\n      <td>598.0</td>\n      <td>1.0</td>\n      <td>0.442565</td>\n    </tr>\n    <tr>\n      <th>5725</th>\n      <td>6034</td>\n      <td>3</td>\n      <td>0.0</td>\n      <td>0</td>\n      <td>2.0</td>\n      <td>8.0</td>\n      <td>False</td>\n      <td>0.0</td>\n      <td>0.0</td>\n      <td>0.0</td>\n      <td>0.0</td>\n      <td>0.0</td>\n      <td>True</td>\n      <td>385.0</td>\n      <td>0.0</td>\n      <td>0.372028</td>\n    </tr>\n    <tr>\n      <th>1227</th>\n      <td>8043</td>\n      <td>1</td>\n      <td>1.0</td>\n      <td>0</td>\n      <td>1.0</td>\n      <td>45.0</td>\n      <td>False</td>\n      <td>5.0</td>\n      <td>17901.0</td>\n      <td>0.0</td>\n      <td>79.0</td>\n      <td>281.0</td>\n      <td>True</td>\n      <td>97.0</td>\n      <td>1.0</td>\n      <td>0.500000</td>\n    </tr>\n    <tr>\n      <th>493</th>\n      <td>1779</td>\n      <td>1</td>\n      <td>2.0</td>\n      <td>0</td>\n      <td>1.0</td>\n      <td>37.0</td>\n      <td>False</td>\n      <td>164.0</td>\n      <td>603.0</td>\n      <td>0.0</td>\n      <td>0.0</td>\n      <td>11.0</td>\n      <td>True</td>\n      <td>349.0</td>\n      <td>0.0</td>\n      <td>0.442565</td>\n    </tr>\n    <tr>\n      <th>716</th>\n      <td>9008</td>\n      <td>2</td>\n      <td>2.0</td>\n      <td>1</td>\n      <td>2.0</td>\n      <td>25.0</td>\n      <td>False</td>\n      <td>0.0</td>\n      <td>0.0</td>\n      <td>0.0</td>\n      <td>0.0</td>\n      <td>0.0</td>\n      <td>False</td>\n      <td>1745.0</td>\n      <td>1.0</td>\n      <td>0.442565</td>\n    </tr>\n  </tbody>\n</table>\n</div>"
     },
     "metadata": {},
     "output_type": "display_data"
    }
   ],
   "source": [
    "research_info(space_train_data)"
   ]
  },
  {
   "cell_type": "code",
   "execution_count": 23,
   "metadata": {},
   "outputs": [
    {
     "name": "stdout",
     "output_type": "stream",
     "text": [
      "<class 'pandas.core.frame.DataFrame'>\n",
      "RangeIndex: 6954 entries, 0 to 6953\n",
      "Data columns (total 16 columns):\n",
      " #   Column              Non-Null Count  Dtype  \n",
      "---  ------              --------------  -----  \n",
      " 0   IdGroup             6954 non-null   int64  \n",
      " 1   Passenger           6954 non-null   int64  \n",
      " 2   HomePlanet          6954 non-null   float64\n",
      " 3   CryoSleep           6954 non-null   int64  \n",
      " 4   Destination         6954 non-null   float64\n",
      " 5   Age                 6954 non-null   float64\n",
      " 6   VIP                 6954 non-null   bool   \n",
      " 7   RoomService         6954 non-null   float64\n",
      " 8   FoodCourt           6954 non-null   float64\n",
      " 9   ShoppingMall        6954 non-null   float64\n",
      " 10  Spa                 6954 non-null   float64\n",
      " 11  VRDeck              6954 non-null   float64\n",
      " 12  Transported         6954 non-null   bool   \n",
      " 13  Cabin_num           6954 non-null   float64\n",
      " 14  Cabin_side          6954 non-null   float64\n",
      " 15  Cabin_deck_encoded  6954 non-null   float64\n",
      "dtypes: bool(2), float64(11), int64(3)\n",
      "memory usage: 774.3 KB\n"
     ]
    }
   ],
   "source": [
    "space_train_data.info()"
   ]
  },
  {
   "cell_type": "markdown",
   "metadata": {},
   "source": [
    "## Шаг 2. Работа с моделями\n",
    "\n",
    "Разделим данные на features и target, а так же разобьем на трейн и тест"
   ]
  },
  {
   "cell_type": "code",
   "execution_count": 24,
   "metadata": {},
   "outputs": [],
   "source": [
    "features = space_train_data.drop('Transported', axis=1)\n",
    "target = space_train_data['Transported']"
   ]
  },
  {
   "cell_type": "code",
   "execution_count": 25,
   "metadata": {},
   "outputs": [
    {
     "data": {
      "text/plain": "dtype('bool')"
     },
     "execution_count": 25,
     "metadata": {},
     "output_type": "execute_result"
    }
   ],
   "source": [
    "target.dtype"
   ]
  },
  {
   "cell_type": "code",
   "execution_count": 26,
   "metadata": {},
   "outputs": [
    {
     "data": {
      "text/plain": "True     0.503595\nFalse    0.496405\nName: Transported, dtype: float64"
     },
     "execution_count": 26,
     "metadata": {},
     "output_type": "execute_result"
    }
   ],
   "source": [
    "# Проверка на дисбаланс\n",
    "target.value_counts(normalize=True)"
   ]
  },
  {
   "cell_type": "code",
   "execution_count": 27,
   "metadata": {},
   "outputs": [],
   "source": [
    "# features_train, features_test, target_train, target_test = train_test_split(features, target, test_size=0.2,\n",
    "#                                                                             random_state=RANDOM_VAL)"
   ]
  },
  {
   "cell_type": "code",
   "execution_count": 28,
   "metadata": {},
   "outputs": [],
   "source": [
    "features_train, features_test, target_train, target_test = train_test_split(features,\n",
    "                                                                            target,\n",
    "                                                                            test_size=0.2,\n",
    "                                                                            random_state=RANDOM_VAL)\n",
    "features_train_, features_val, target_train_, target_val = train_test_split(features_train,\n",
    "                                                                            target_train,\n",
    "                                                                            test_size=0.16,\n",
    "                                                                            random_state=RANDOM_VAL)\n",
    "eval_set = [(features_val, target_val)]"
   ]
  },
  {
   "cell_type": "markdown",
   "metadata": {},
   "source": [
    "Создадим функции, которые позволят сравнить в конце все модели и следить за качеством по ходу работы."
   ]
  },
  {
   "cell_type": "code",
   "execution_count": 29,
   "metadata": {},
   "outputs": [],
   "source": [
    "# Генерация таблицы с метриками\n",
    "def get_metrics(y_test: np.ndarray,\n",
    "                y_pred: np.ndarray,\n",
    "                name: str = None,\n",
    "                time_fit: str = None,\n",
    "                time_pred: str = None):\n",
    "    df_metrics = pd.DataFrame()\n",
    "    df_metrics['model'] = [name]\n",
    "    df_metrics['accuracy'] = accuracy_score(y_test, y_pred)\n",
    "    df_metrics['Time fit'] = time_fit\n",
    "    df_metrics['Time pred'] = time_pred\n",
    "\n",
    "    return df_metrics"
   ]
  },
  {
   "cell_type": "code",
   "execution_count": 30,
   "metadata": {},
   "outputs": [],
   "source": [
    "# Проверка на переобучение\n",
    "def check_overfitting(model, X_train, y_train, X_test, y_test, metric_fun):\n",
    "    y_pred_train = model.predict(X_train)\n",
    "    y_pred_test = model.predict(X_test)\n",
    "    mae_train = metric_fun(y_train, y_pred_train)\n",
    "    mae_test = metric_fun(y_test, y_pred_test)\n",
    "\n",
    "    print(f'{metric_fun.__name__} train: %.3f' % mae_train)\n",
    "    print(f'{metric_fun.__name__} test: %.3f' % mae_test)\n",
    "    print(f'delta = {(abs(mae_train - mae_test) / mae_train * 100):.1f} %')"
   ]
  },
  {
   "cell_type": "markdown",
   "metadata": {},
   "source": [
    "### 2.2 DecisionTreeClassifier"
   ]
  },
  {
   "cell_type": "code",
   "execution_count": 31,
   "metadata": {},
   "outputs": [],
   "source": [
    "dtc = DecisionTreeClassifier(random_state=RANDOM_VAL)\n",
    "\n",
    "time_start_fit = time.time()\n",
    "dtc.fit(features_train, target_train)\n",
    "time_spent_fit = time.time() - time_start_fit\n",
    "\n",
    "time_start_pred = time.time()\n",
    "target_pred_dtc = dtc.predict(features_val)\n",
    "time_spent_pred = time.time() - time_start_pred"
   ]
  },
  {
   "cell_type": "code",
   "execution_count": 32,
   "metadata": {},
   "outputs": [],
   "source": [
    "metrics = get_metrics(target_val, target_pred_dtc, 'DecisionTreeClassifier', time_spent_fit, time_spent_pred)"
   ]
  },
  {
   "cell_type": "markdown",
   "metadata": {},
   "source": [
    "### 2.3 RandomForestClassifier\n",
    "\n",
    "К сожалению, модель случайного леса рассчитывается очень долго, поэтому исключим её из исследования."
   ]
  },
  {
   "cell_type": "code",
   "execution_count": 33,
   "metadata": {},
   "outputs": [],
   "source": [
    "rfc = RandomForestClassifier(random_state=RANDOM_VAL)\n",
    "\n",
    "time_start_fit = time.time()\n",
    "rfc.fit(features_train, target_train)\n",
    "time_spent_fit = time.time() - time_start_fit\n",
    "\n",
    "time_start_pred = time.time()\n",
    "target_pred_rfc = rfc.predict(features_val)\n",
    "time_spent_pred = time.time() - time_start_pred"
   ]
  },
  {
   "cell_type": "code",
   "execution_count": 34,
   "metadata": {},
   "outputs": [],
   "source": [
    "metrics = metrics.append(\n",
    "    get_metrics(target_val, target_pred_rfc, 'RandomForestClassifier', time_spent_fit, time_spent_pred))"
   ]
  },
  {
   "cell_type": "markdown",
   "metadata": {},
   "source": [
    "### 2.4 LGBMClassifier"
   ]
  },
  {
   "cell_type": "code",
   "execution_count": 35,
   "metadata": {},
   "outputs": [],
   "source": [
    "lgb = LGBMClassifier(random_state=RAND)\n",
    "\n",
    "time_start_fit = time.time()\n",
    "lgb.fit(features_train_,\n",
    "        target_train_,\n",
    "        eval_metric=\"\",\n",
    "        eval_set=eval_set,\n",
    "        verbose=False,\n",
    "        early_stopping_rounds=100)\n",
    "time_spent_fit = time.time() - time_start_fit\n",
    "\n",
    "time_start_pred = time.time()\n",
    "target_pred_lgb = lgb.predict(features_val)\n",
    "time_spent_pred = time.time() - time_start_pred"
   ]
  },
  {
   "cell_type": "code",
   "execution_count": 36,
   "metadata": {},
   "outputs": [],
   "source": [
    "metrics = metrics.append(\n",
    "    get_metrics(target_val, target_pred_lgb, 'LGBMClassifier', time_spent_fit, time_spent_pred))"
   ]
  },
  {
   "cell_type": "markdown",
   "metadata": {},
   "source": [
    "### 2.5 CatBoostClassifier"
   ]
  },
  {
   "cell_type": "code",
   "execution_count": 37,
   "metadata": {},
   "outputs": [],
   "source": [
    "cbc = CatBoostClassifier(random_seed=RAND,\n",
    "                         allow_writing_files=False)\n",
    "\n",
    "time_start_fit = time.time()\n",
    "cbc.fit(features_train_,\n",
    "        target_train_,\n",
    "        eval_set=eval_set,\n",
    "        verbose=0,\n",
    "        early_stopping_rounds=100)\n",
    "time_spent_fit = time.time() - time_start_fit\n",
    "\n",
    "time_start_pred = time.time()\n",
    "target_pred_cbc = cbc.predict(features_val)\n",
    "time_spent_pred = time.time() - time_start_pred\n"
   ]
  },
  {
   "cell_type": "code",
   "execution_count": 38,
   "metadata": {},
   "outputs": [],
   "source": [
    "target_pred_cbc = target_pred_cbc.astype(target_val.dtype)"
   ]
  },
  {
   "cell_type": "code",
   "execution_count": 39,
   "metadata": {},
   "outputs": [],
   "source": [
    "metrics = metrics.append(\n",
    "    get_metrics(target_val, target_pred_cbc, 'CatBoostClassifier', time_spent_fit, time_spent_pred))"
   ]
  },
  {
   "cell_type": "markdown",
   "metadata": {},
   "source": [
    "### 2.6 DummyClassifier"
   ]
  },
  {
   "cell_type": "code",
   "execution_count": 40,
   "metadata": {},
   "outputs": [],
   "source": [
    "dc = DummyClassifier(random_state=RANDOM_VAL)\n",
    "\n",
    "time_start_fit = time.time()\n",
    "dc.fit(features_train, target_train)\n",
    "time_spent_fit = time.time() - time_start_fit\n",
    "\n",
    "time_start_pred = time.time()\n",
    "target_pred_dr = dc.predict(features_val)\n",
    "time_spent_pred = time.time() - time_start_pred"
   ]
  },
  {
   "cell_type": "code",
   "execution_count": 41,
   "metadata": {},
   "outputs": [],
   "source": [
    "metrics = metrics.append(\n",
    "    get_metrics(target_val, target_pred_dr, 'DummyClassifier', time_spent_fit, time_spent_pred))"
   ]
  },
  {
   "cell_type": "markdown",
   "metadata": {},
   "source": [
    "## Шаг 3. Подготовка тестовой выборки\n"
   ]
  },
  {
   "cell_type": "code",
   "execution_count": 42,
   "metadata": {},
   "outputs": [],
   "source": [
    "# Приведем тестовые данные к тому же виду, что и обучающие\n",
    "cols_to_move = ['IdGroup', 'Passenger']\n",
    "space_test_data[cols_to_move] = space_test_data['PassengerId'].str.split('_', expand=True)\n",
    "space_train_data = space_train_data[cols_to_move + [x for x in space_train_data.columns if x not in cols_to_move]]\n",
    "space_test_data['HomePlanet'] = space_test_data['HomePlanet'].map(planet_in)\n",
    "space_test_data['Destination'] = space_test_data['Destination'].map(planet_out)\n",
    "space_test_data[['Cabin_deck', 'Cabin_num', 'Cabin_side']] = space_test_data['Cabin'].str.split('/', expand=True)\n",
    "space_test_data['Cabin_side'] = space_test_data['Cabin_side'].map({'P': 0, 'S': 1})\n",
    "space_test_data['Cabin_deck_encoded'] = encoder.transform(space_test_data['Cabin_deck'])\n",
    "\n",
    "space_test_data['TotalSum'] = space_test_data[['RoomService', 'FoodCourt', 'ShoppingMall', 'Spa', 'VRDeck']].sum(\n",
    "    axis=1)\n",
    "space_test_data[['IdGroup', 'Passenger', 'Cabin_num']] = space_test_data[['IdGroup', 'Passenger', 'Cabin_num']].apply(\n",
    "    pd.to_numeric)\n",
    "# space_test_data = space_test_data.fillna(-1)\n",
    "space_test_data = space_test_data.fillna(method='ffill')\n",
    "space_test_data.drop(['PassengerId', 'Cabin', 'Name', 'Cabin_deck', 'TotalSum'], axis=1, inplace=True)"
   ]
  },
  {
   "cell_type": "code",
   "execution_count": 43,
   "metadata": {},
   "outputs": [
    {
     "name": "stdout",
     "output_type": "stream",
     "text": [
      "Количество стобцов: 15\n",
      "Количество строк: 1739\n",
      "Дубликатов: 0 (0.00%)\n",
      "Пропусков по разным признакам: HomePlanet            0\n",
      "CryoSleep             0\n",
      "Destination           0\n",
      "Age                   0\n",
      "VIP                   0\n",
      "RoomService           0\n",
      "FoodCourt             0\n",
      "ShoppingMall          0\n",
      "Spa                   0\n",
      "VRDeck                0\n",
      "IdGroup               0\n",
      "Passenger             0\n",
      "Cabin_num             0\n",
      "Cabin_side            0\n",
      "Cabin_deck_encoded    0\n",
      "dtype: int64 \n"
     ]
    },
    {
     "data": {
      "text/plain": "      HomePlanet  CryoSleep  Destination   Age    VIP  RoomService  FoodCourt  \\\n1598         2.0      False          2.0  65.0  False        458.0        0.0   \n1332         2.0       True          2.0  27.0  False          0.0        0.0   \n336          2.0      False          2.0  40.0  False          2.0      147.0   \n144          0.0      False          0.0  37.0  False         46.0       83.0   \n907          2.0      False          2.0  23.0  False         59.0        0.0   \n\n      ShoppingMall     Spa  VRDeck  IdGroup  Passenger  Cabin_num  Cabin_side  \\\n1598         555.0     0.0     0.0     6319          1     1019.0         0.0   \n1332           0.0     0.0     0.0     4256          3      698.0         0.0   \n336            0.0  1695.0  1147.0     7372          1     1526.0         0.0   \n144          738.0     0.0    12.0       73          1        3.0         0.0   \n907            0.0   681.0     0.0      545          1      111.0         0.0   \n\n      Cabin_deck_encoded  \n1598            0.507506  \n1332            0.507506  \n336             0.442565  \n144             0.436031  \n907             0.442565  ",
      "text/html": "<div>\n<style scoped>\n    .dataframe tbody tr th:only-of-type {\n        vertical-align: middle;\n    }\n\n    .dataframe tbody tr th {\n        vertical-align: top;\n    }\n\n    .dataframe thead th {\n        text-align: right;\n    }\n</style>\n<table border=\"1\" class=\"dataframe\">\n  <thead>\n    <tr style=\"text-align: right;\">\n      <th></th>\n      <th>HomePlanet</th>\n      <th>CryoSleep</th>\n      <th>Destination</th>\n      <th>Age</th>\n      <th>VIP</th>\n      <th>RoomService</th>\n      <th>FoodCourt</th>\n      <th>ShoppingMall</th>\n      <th>Spa</th>\n      <th>VRDeck</th>\n      <th>IdGroup</th>\n      <th>Passenger</th>\n      <th>Cabin_num</th>\n      <th>Cabin_side</th>\n      <th>Cabin_deck_encoded</th>\n    </tr>\n  </thead>\n  <tbody>\n    <tr>\n      <th>1598</th>\n      <td>2.0</td>\n      <td>False</td>\n      <td>2.0</td>\n      <td>65.0</td>\n      <td>False</td>\n      <td>458.0</td>\n      <td>0.0</td>\n      <td>555.0</td>\n      <td>0.0</td>\n      <td>0.0</td>\n      <td>6319</td>\n      <td>1</td>\n      <td>1019.0</td>\n      <td>0.0</td>\n      <td>0.507506</td>\n    </tr>\n    <tr>\n      <th>1332</th>\n      <td>2.0</td>\n      <td>True</td>\n      <td>2.0</td>\n      <td>27.0</td>\n      <td>False</td>\n      <td>0.0</td>\n      <td>0.0</td>\n      <td>0.0</td>\n      <td>0.0</td>\n      <td>0.0</td>\n      <td>4256</td>\n      <td>3</td>\n      <td>698.0</td>\n      <td>0.0</td>\n      <td>0.507506</td>\n    </tr>\n    <tr>\n      <th>336</th>\n      <td>2.0</td>\n      <td>False</td>\n      <td>2.0</td>\n      <td>40.0</td>\n      <td>False</td>\n      <td>2.0</td>\n      <td>147.0</td>\n      <td>0.0</td>\n      <td>1695.0</td>\n      <td>1147.0</td>\n      <td>7372</td>\n      <td>1</td>\n      <td>1526.0</td>\n      <td>0.0</td>\n      <td>0.442565</td>\n    </tr>\n    <tr>\n      <th>144</th>\n      <td>0.0</td>\n      <td>False</td>\n      <td>0.0</td>\n      <td>37.0</td>\n      <td>False</td>\n      <td>46.0</td>\n      <td>83.0</td>\n      <td>738.0</td>\n      <td>0.0</td>\n      <td>12.0</td>\n      <td>73</td>\n      <td>1</td>\n      <td>3.0</td>\n      <td>0.0</td>\n      <td>0.436031</td>\n    </tr>\n    <tr>\n      <th>907</th>\n      <td>2.0</td>\n      <td>False</td>\n      <td>2.0</td>\n      <td>23.0</td>\n      <td>False</td>\n      <td>59.0</td>\n      <td>0.0</td>\n      <td>0.0</td>\n      <td>681.0</td>\n      <td>0.0</td>\n      <td>545</td>\n      <td>1</td>\n      <td>111.0</td>\n      <td>0.0</td>\n      <td>0.442565</td>\n    </tr>\n  </tbody>\n</table>\n</div>"
     },
     "metadata": {},
     "output_type": "display_data"
    }
   ],
   "source": [
    "research_info(space_test_data)"
   ]
  },
  {
   "cell_type": "markdown",
   "metadata": {},
   "source": [
    "Данные готовы к обучению."
   ]
  },
  {
   "cell_type": "markdown",
   "metadata": {},
   "source": [
    "## Шаг 4. Вывод решения\n"
   ]
  },
  {
   "cell_type": "code",
   "execution_count": 44,
   "metadata": {},
   "outputs": [
    {
     "data": {
      "text/plain": "                    model  accuracy  Time fit  Time pred\n0  DecisionTreeClassifier  1.000000  0.031410   0.001998\n0  RandomForestClassifier  1.000000  0.411704   0.035974\n0          LGBMClassifier  0.797980  0.108593   0.002947\n0      CatBoostClassifier  0.482604  1.596340   0.003021\n0         DummyClassifier  0.517396  0.000000   0.000000",
      "text/html": "<div>\n<style scoped>\n    .dataframe tbody tr th:only-of-type {\n        vertical-align: middle;\n    }\n\n    .dataframe tbody tr th {\n        vertical-align: top;\n    }\n\n    .dataframe thead th {\n        text-align: right;\n    }\n</style>\n<table border=\"1\" class=\"dataframe\">\n  <thead>\n    <tr style=\"text-align: right;\">\n      <th></th>\n      <th>model</th>\n      <th>accuracy</th>\n      <th>Time fit</th>\n      <th>Time pred</th>\n    </tr>\n  </thead>\n  <tbody>\n    <tr>\n      <th>0</th>\n      <td>DecisionTreeClassifier</td>\n      <td>1.000000</td>\n      <td>0.031410</td>\n      <td>0.001998</td>\n    </tr>\n    <tr>\n      <th>0</th>\n      <td>RandomForestClassifier</td>\n      <td>1.000000</td>\n      <td>0.411704</td>\n      <td>0.035974</td>\n    </tr>\n    <tr>\n      <th>0</th>\n      <td>LGBMClassifier</td>\n      <td>0.797980</td>\n      <td>0.108593</td>\n      <td>0.002947</td>\n    </tr>\n    <tr>\n      <th>0</th>\n      <td>CatBoostClassifier</td>\n      <td>0.482604</td>\n      <td>1.596340</td>\n      <td>0.003021</td>\n    </tr>\n    <tr>\n      <th>0</th>\n      <td>DummyClassifier</td>\n      <td>0.517396</td>\n      <td>0.000000</td>\n      <td>0.000000</td>\n    </tr>\n  </tbody>\n</table>\n</div>"
     },
     "execution_count": 44,
     "metadata": {},
     "output_type": "execute_result"
    }
   ],
   "source": [
    "metrics"
   ]
  },
  {
   "cell_type": "code",
   "execution_count": 45,
   "metadata": {},
   "outputs": [],
   "source": [
    "best_model = cbc\n",
    "predictions = best_model.predict(space_test_data)\n",
    "space_test_data['PassengerId'] = space_test_data.apply(lambda x: \"%04d_%02d\" % (x['IdGroup'], x['Passenger']), axis=1)\n",
    "predictions = pd.DataFrame(predictions, columns=['Transported'])\n",
    "sub = pd.concat([space_test_data.PassengerId, predictions], axis=1)\n",
    "sub.set_index('PassengerId', inplace=True)\n",
    "sub.to_csv(f\"submission.csv\")"
   ]
  }
 ],
 "metadata": {
  "kernelspec": {
   "display_name": "Python 3 (ipykernel)",
   "language": "python",
   "name": "python3"
  },
  "language_info": {
   "codemirror_mode": {
    "name": "ipython",
    "version": 3
   },
   "file_extension": ".py",
   "mimetype": "text/x-python",
   "name": "python",
   "nbconvert_exporter": "python",
   "pygments_lexer": "ipython3",
   "version": "3.9.15"
  },
  "toc": {
   "base_numbering": 1,
   "nav_menu": {},
   "number_sections": true,
   "sideBar": true,
   "skip_h1_title": true,
   "title_cell": "Table of Contents",
   "title_sidebar": "Contents",
   "toc_cell": true,
   "toc_position": {},
   "toc_section_display": true,
   "toc_window_display": false
  }
 },
 "nbformat": 4,
 "nbformat_minor": 1
}
