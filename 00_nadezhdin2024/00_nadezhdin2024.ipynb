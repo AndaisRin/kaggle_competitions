{
 "cells": [
  {
   "cell_type": "markdown",
   "source": [
    "# Анализ кампании по сбору подписей за Бориса Надеждина\n",
    "\n",
    "В связи с тем, что только команда Б.Б. Надеждина выкладывала в открытый доступ данные о количестве собранных подписей по каждому региону страны отдельно, получилось собрать и обработать полученные результаты."
   ],
   "metadata": {
    "collapsed": false
   },
   "id": "3d953a1731805c5b"
  },
  {
   "cell_type": "markdown",
   "source": [
    "## Импорт необходимых библиотек"
   ],
   "metadata": {
    "collapsed": false
   },
   "id": "e52372c777fd1575"
  },
  {
   "cell_type": "code",
   "execution_count": 1,
   "outputs": [],
   "source": [
    "# Блок 0: Скрыть уведомления\n",
    "import warnings\n",
    "warnings.filterwarnings('ignore')\n",
    "\n",
    "# Блок 1: Анализ данных и визуализация\n",
    "import pandas as pd\n",
    "import re\n",
    "\n",
    "# Блок 2: Веб-скрапинг\n",
    "from bs4 import BeautifulSoup\n",
    "import requests\n",
    "\n",
    "# Блок 3: Отображение HTML-контента\n",
    "from IPython.display import IFrame\n",
    "\n",
    "# Блок 4: Работа с геопространственными данными\n",
    "import geopandas as gpd\n",
    "\n",
    "# Блок 5: Создание карт с помощью Folium\n",
    "import folium\n",
    "from branca.colormap import linear"
   ],
   "metadata": {
    "collapsed": true,
    "ExecuteTime": {
     "end_time": "2024-02-20T09:54:58.799594Z",
     "start_time": "2024-02-20T09:54:58.188513Z"
    }
   },
   "id": "initial_id"
  },
  {
   "cell_type": "markdown",
   "source": [
    "## Сбор данных\n",
    "\n",
    "Для получения информации о том, в каких регионах страны были собраны подписи и в каком количестве, необходимо выгрузить данные с сайта кампании Б.Б.Надеждина и привести их в необходимые для дальнейшей работы вид. "
   ],
   "metadata": {
    "collapsed": false
   },
   "id": "3967879231352b05"
  },
  {
   "cell_type": "code",
   "execution_count": 2,
   "outputs": [],
   "source": [
    "def get_html(url):\n",
    "    # забираем html-dom\n",
    "    result = requests.get(url)\n",
    "\n",
    "    return result.text\n",
    "\n",
    "def get_block(html):\n",
    "\n",
    "    soup = BeautifulSoup(html, 'lxml')\n",
    "    # разбираем на блоки адресс-подпись для удобной комбинации\n",
    "    blocks = soup.findAll('div', class_='addresses-page__region')\n",
    "\n",
    "    adresses = []\n",
    "    signatures = []\n",
    "\n",
    "    for el in blocks:\n",
    "        # в каждом блоке точно есть регион, забираем его\n",
    "        adress = el.find('div', class_='card region-card region-card--addresses-page').find('h3', class_='subheading').text\n",
    "        adresses.append(adress)\n",
    "        # в блоке еще может не быть подписей\n",
    "        try:\n",
    "            # имеем только один спан в диве с таким классом \n",
    "            sign = el.find('div', class_='progressbar addresses-page__progressbar').find('span').text\n",
    "            sign = re.findall(r'\\d+', sign)[0] # забираем только число собранных подписей\n",
    "            signatures.append(sign)\n",
    "        except:\n",
    "            # placeholder\n",
    "            signatures.append('nan')\n",
    "\n",
    "\n",
    "    return adresses, signatures\n",
    "\n",
    "\n",
    "def get():\n",
    "\n",
    "    html = get_html('https://nadezhdin2024.ru/addresses') # Адрес сайта, используемый 26/01/24 для мониторинга собранных подписей\n",
    "    # html = get_html('https://nadezhdin2024.ru/signatures') # Адрес сайта, используемый после 30/01/24 для мониторинга обработанных подписей\n",
    "    info = get_block(html)\n",
    "    return info\n",
    "\n",
    "adresses, signs = get()\n",
    "signature = pd.DataFrame({'Регион': adresses, 'Подписи': signs})\n",
    "signature.to_csv('signature_new.csv', index=False)"
   ],
   "metadata": {
    "collapsed": false,
    "ExecuteTime": {
     "end_time": "2024-02-20T09:54:59.710705Z",
     "start_time": "2024-02-20T09:54:58.801483Z"
    }
   },
   "id": "d349fe26d206c5b7"
  },
  {
   "cell_type": "markdown",
   "source": [
    "## Загрузка данных\n",
    "В связи с тем, что штаб закрыл доступ к актуальным данным после решения ЦИКа от 08/02/24 от закрытии кампании кандидата, в дальнейшем исследовании будет использоваться архивная информация от 27/01/24. \n",
    "\n",
    "Важно отметить, что в связи с использованием архивных данных, в таких регионах как Москва будет наблюдаться существенный \"перевес\" голосов, т.к. отмечены только штабы, в которых собраны данные, а не регионы, к которым относятся люди, поставившие подписи. "
   ],
   "metadata": {
    "collapsed": false
   },
   "id": "4a6fad55252d9efe"
  },
  {
   "cell_type": "code",
   "outputs": [],
   "source": [
    "signature = pd.read_csv('old_signature.csv')  # Данные о собранных подписях"
   ],
   "metadata": {
    "collapsed": false,
    "ExecuteTime": {
     "end_time": "2024-02-20T09:54:59.726797Z",
     "start_time": "2024-02-20T09:54:59.712577Z"
    }
   },
   "id": "3bdf99f32e311578",
   "execution_count": 3
  },
  {
   "cell_type": "code",
   "outputs": [],
   "source": [
    "# Загрузка данных о регионах России\n",
    "reg_inf = pd.read_csv('geo_1.csv')  # Правильные сопоставления регионов и номеров \n",
    "rus_info_df = pd.read_csv('regions-info.csv')  # Вся остальная географическая информация\n",
    "# Загрузка географических данных России\n",
    "rus_bnd_gdf = gpd.read_file('geo.json')"
   ],
   "metadata": {
    "collapsed": false,
    "ExecuteTime": {
     "end_time": "2024-02-20T09:55:03.750156Z",
     "start_time": "2024-02-20T09:54:59.727787Z"
    }
   },
   "id": "3446e9a2b02d156",
   "execution_count": 4
  },
  {
   "cell_type": "markdown",
   "source": [
    "## Предобработка данных\n",
    "\n",
    "### Подготовка геоданных"
   ],
   "metadata": {
    "collapsed": false
   },
   "id": "ad4e06c0b5f7b9d2"
  },
  {
   "cell_type": "code",
   "outputs": [],
   "source": [
    "rus_info_df = rus_info_df[rus_info_df['Region'] != 'Россия']"
   ],
   "metadata": {
    "collapsed": false,
    "ExecuteTime": {
     "end_time": "2024-02-20T09:55:03.766141Z",
     "start_time": "2024-02-20T09:55:03.753142Z"
    }
   },
   "id": "9b0289dad5f4f0a0",
   "execution_count": 5
  },
  {
   "cell_type": "code",
   "outputs": [],
   "source": [
    "# Combining with regions info\n",
    "right = rus_info_df[['Region_ID', 'Region', 'Latitude', 'Longitude']]\n",
    "\n",
    "# Присоединение right к reg_inf по столбцу region_name и Region\n",
    "geo_df = reg_inf.merge(right, left_on='region_name', right_on='Region', how='left')"
   ],
   "metadata": {
    "collapsed": false,
    "ExecuteTime": {
     "end_time": "2024-02-20T09:55:03.781377Z",
     "start_time": "2024-02-20T09:55:03.768141Z"
    }
   },
   "id": "862386e29c903922",
   "execution_count": 6
  },
  {
   "cell_type": "code",
   "outputs": [
    {
     "data": {
      "text/plain": "    Region_ID                        Region   Latitude   Longitude\n7           2       Республика Башкортостан  54.474755   55.978458\n82         79  Еврейская автономная область  48.560161  132.277566\n84         87    Чукотский автономный округ  66.000647  169.490087\n85         83     Ненецкий автономный округ  67.678325   57.062685",
      "text/html": "<div>\n<style scoped>\n    .dataframe tbody tr th:only-of-type {\n        vertical-align: middle;\n    }\n\n    .dataframe tbody tr th {\n        vertical-align: top;\n    }\n\n    .dataframe thead th {\n        text-align: right;\n    }\n</style>\n<table border=\"1\" class=\"dataframe\">\n  <thead>\n    <tr style=\"text-align: right;\">\n      <th></th>\n      <th>Region_ID</th>\n      <th>Region</th>\n      <th>Latitude</th>\n      <th>Longitude</th>\n    </tr>\n  </thead>\n  <tbody>\n    <tr>\n      <th>7</th>\n      <td>2</td>\n      <td>Республика Башкортостан</td>\n      <td>54.474755</td>\n      <td>55.978458</td>\n    </tr>\n    <tr>\n      <th>82</th>\n      <td>79</td>\n      <td>Еврейская автономная область</td>\n      <td>48.560161</td>\n      <td>132.277566</td>\n    </tr>\n    <tr>\n      <th>84</th>\n      <td>87</td>\n      <td>Чукотский автономный округ</td>\n      <td>66.000647</td>\n      <td>169.490087</td>\n    </tr>\n    <tr>\n      <th>85</th>\n      <td>83</td>\n      <td>Ненецкий автономный округ</td>\n      <td>67.678325</td>\n      <td>57.062685</td>\n    </tr>\n  </tbody>\n</table>\n</div>"
     },
     "execution_count": 7,
     "metadata": {},
     "output_type": "execute_result"
    }
   ],
   "source": [
    "missing_regions = right[~right['Latitude'].isin(geo_df['Latitude'])]\n",
    "missing_regions"
   ],
   "metadata": {
    "collapsed": false,
    "ExecuteTime": {
     "end_time": "2024-02-20T09:55:03.797377Z",
     "start_time": "2024-02-20T09:55:03.782378Z"
    }
   },
   "id": "4f0cb8752627e268",
   "execution_count": 7
  },
  {
   "cell_type": "code",
   "outputs": [],
   "source": [
    "# Manual fixes\n",
    "geo_df.loc[geo_df.Region == 'Москва', ['Latitude', 'Longitude']] = (55.7522, 37.6220)\n",
    "geo_df.loc[geo_df.Region == 'Санкт-Петербург', ['Latitude', 'Longitude']] = (59.8917, 30.2673)\n",
    "\n",
    "geo_df.loc[geo_df.region_name == 'Pеспублика Башкортостан', ['Latitude', 'Longitude', 'Region']] = (\n",
    "    54.474755, 55.978458, 'Республика Башкортостан')\n",
    "geo_df.loc[geo_df.region_name == 'Республика Чувашия', ['Latitude', 'Longitude', 'Region']] = (\n",
    "    56.142431, 47.254454, 'Республика Чувашия')\n",
    "geo_df.loc[geo_df.region_name == 'Еврейская АО', ['Latitude', 'Longitude', 'Region']] = (\n",
    "    48.560161, 132.277566, 'Еврейская АО')\n",
    "geo_df.loc[geo_df.region_name == 'Чукотский АО', ['Latitude', 'Longitude', 'Region']] = (\n",
    "    66.000647, 169.490087, 'Чукотский АО')\n",
    "geo_df.loc[geo_df.region_name == 'Ненецкий АО', ['Latitude', 'Longitude', 'Region']] = (\n",
    "    67.678325, 57.062685, 'Ненецкий АО')\n"
   ],
   "metadata": {
    "collapsed": false,
    "ExecuteTime": {
     "end_time": "2024-02-20T09:55:03.813377Z",
     "start_time": "2024-02-20T09:55:03.798377Z"
    }
   },
   "id": "f85ef91c842e7de7",
   "execution_count": 8
  },
  {
   "cell_type": "code",
   "outputs": [],
   "source": [
    "geo_df = geo_df[['id', 'region_name', 'eng_name', 'Latitude', 'Longitude']]\n",
    "# Переименование столбцов\n",
    "geo_df.rename(columns={'id': 'id', 'region_name': 'region', 'eng_name': 'region_eng', 'Latitude': 'latitude',\n",
    "                       'Longitude': 'longitude'}, inplace=True)"
   ],
   "metadata": {
    "collapsed": false,
    "ExecuteTime": {
     "end_time": "2024-02-20T09:55:03.829376Z",
     "start_time": "2024-02-20T09:55:03.814377Z"
    }
   },
   "id": "7ff0b1ddda8f596d",
   "execution_count": 9
  },
  {
   "cell_type": "markdown",
   "source": [
    "### Подготовка данных о подписях\n",
    "Для начала ноебходимо убрать из списка все подписи, которые были собраны за пределами РФ"
   ],
   "metadata": {
    "collapsed": false
   },
   "id": "65f9e588c844a8d0"
  },
  {
   "cell_type": "code",
   "outputs": [],
   "source": [
    "# Оформление списка\n",
    "to_del = ['Австрия', 'Аргентина', 'Армения', 'Бельгия', 'Болгария', 'Германия', 'Греция', 'Грузия', 'Дания', 'Израиль',\n",
    "          'Индонезия', 'Ирландия', 'Испания', 'Италия', 'Казахстан', 'Кипр', 'Кыргызстан', 'Латвия', 'Литва', 'Молдова',\n",
    "          'Нидерланды', 'Норвегия', 'ОАЭ', 'Португалия', 'США', 'Сербия', 'Соединённое Королевство', 'Тайланд',\n",
    "          'Турция', 'Узбекистан', 'Финляндия', 'Франция', 'Черногория', 'Чехия', 'Швейцария', 'Швеция', 'Шри-Ланка',\n",
    "          'Япония']\n",
    "\n",
    "# Удаление регионов из DataFrame\n",
    "signature = signature[~signature['Регион'].isin(to_del)]\n",
    "signature.loc[:, 'Подписи'] = signature['Подписи'].fillna(0)"
   ],
   "metadata": {
    "collapsed": false,
    "ExecuteTime": {
     "end_time": "2024-02-20T09:55:03.845377Z",
     "start_time": "2024-02-20T09:55:03.831377Z"
    }
   },
   "id": "662f6f58de7a5981",
   "execution_count": 10
  },
  {
   "cell_type": "markdown",
   "source": [
    "Добавим столбцы с аналитикой собранных подписей:\n",
    "- сколько всего собрано подписей, с учетом ограничений по количеству на один регион;\n",
    "- сколько региону не хватает до максимального значения;\n",
    "- насколько регион собрал больше лимита.  "
   ],
   "metadata": {
    "collapsed": false
   },
   "id": "6cfe211f5fb645e7"
  },
  {
   "cell_type": "code",
   "outputs": [],
   "source": [
    "# Создаем столбец \"собрано\"\n",
    "signature['собрано'] = signature['Подписи'].apply(lambda x: min(x, 2500))\n",
    "\n",
    "# Создаем столбец \"необходимо\"\n",
    "signature['необходимо'] = 2500 - signature['собрано']\n",
    "\n",
    "# Создаем столбец \"сверх\"\n",
    "signature['сверх'] = signature['Подписи'].apply(lambda x: max(x - 2500, 0))"
   ],
   "metadata": {
    "collapsed": false,
    "ExecuteTime": {
     "end_time": "2024-02-20T09:55:03.861377Z",
     "start_time": "2024-02-20T09:55:03.846377Z"
    }
   },
   "id": "98bfc917d1bcb857",
   "execution_count": 11
  },
  {
   "cell_type": "code",
   "outputs": [],
   "source": [
    "# Переименование столбцов\n",
    "signature.rename(columns={'Регион': 'region', 'Подписи': 'signatures', 'собрано': 'collected', 'необходимо': 'needed',\n",
    "                          'сверх': 'extra'}, inplace=True)"
   ],
   "metadata": {
    "collapsed": false,
    "ExecuteTime": {
     "end_time": "2024-02-20T09:55:03.877377Z",
     "start_time": "2024-02-20T09:55:03.862377Z"
    }
   },
   "id": "c1b0309b968d9a9e",
   "execution_count": 12
  },
  {
   "cell_type": "markdown",
   "source": [
    "Переименуем регионы в соответствии с официальными названиями."
   ],
   "metadata": {
    "collapsed": false
   },
   "id": "dd88e162e0c9ae42"
  },
  {
   "cell_type": "code",
   "outputs": [],
   "source": [
    "replace_dict = {\n",
    "    'Адыгея': 'Республика Адыгея',\n",
    "    'Башкортостан': 'Республика Башкортостан',\n",
    "    'Бурятия': 'Республика Бурятия',\n",
    "    'Алтай': 'Республика Алтай',\n",
    "    'Дагестан': 'Республика Дагестан',\n",
    "    'Ингушетия': 'Республика Ингушетия',\n",
    "    'Калмыкия': 'Республика Калмыкия',\n",
    "    'Карелия': 'Республика Карелия',\n",
    "    'Коми': 'Республика Коми',\n",
    "    'Марий Эл': 'Республика Марий Эл',\n",
    "    'Мордовия': 'Республика Мордовия',\n",
    "    'Саха (Якутия)': 'Республика Саха (Якутия)',\n",
    "    'Татарстан': 'Республика Татарстан',\n",
    "    'Тыва': 'Республика Тыва',\n",
    "    'Удмуртия': 'Удмуртская Республика',\n",
    "    'Хакасия': 'Республика Хакасия',\n",
    "    'Чувашская Республика': 'Республика Чувашия',\n",
    "    'Ханты-Мансийский автономный округ': 'Ханты-Мансийский АО'\n",
    "}\n",
    "\n",
    "signature['region'] = signature['region'].replace(replace_dict)"
   ],
   "metadata": {
    "collapsed": false,
    "ExecuteTime": {
     "end_time": "2024-02-20T09:55:03.893377Z",
     "start_time": "2024-02-20T09:55:03.878378Z"
    }
   },
   "id": "ee551e341088e5c",
   "execution_count": 13
  },
  {
   "cell_type": "markdown",
   "source": [
    "Добавим информацию о регионах к подписям"
   ],
   "metadata": {
    "collapsed": false
   },
   "id": "c958a4f368871bea"
  },
  {
   "cell_type": "code",
   "outputs": [],
   "source": [
    "# new_df = signature.merge(reg_inf[['id', 'region_name']], left_on='region_name', right_on='region', how='left')\n",
    "signature = pd.merge(signature, geo_df, left_on='region', right_on='region', how='right')"
   ],
   "metadata": {
    "collapsed": false,
    "ExecuteTime": {
     "end_time": "2024-02-20T09:55:03.909396Z",
     "start_time": "2024-02-20T09:55:03.896379Z"
    }
   },
   "id": "149fecd2434659c8",
   "execution_count": 14
  },
  {
   "cell_type": "markdown",
   "source": [
    "Заполним пропуски и удалим столбцы-дубликаты"
   ],
   "metadata": {
    "collapsed": false
   },
   "id": "ae1f661f8895d6fd"
  },
  {
   "cell_type": "code",
   "outputs": [],
   "source": [
    "signature.loc[:, 'signatures'] = signature['signatures'].fillna(0)\n",
    "\n",
    "signature.loc[signature['signatures'] == 0, ['collected', 'extra']] = 0\n",
    "signature.loc[signature['signatures'] == 0, 'needed'] = 2500"
   ],
   "metadata": {
    "collapsed": false,
    "ExecuteTime": {
     "end_time": "2024-02-20T09:55:03.925378Z",
     "start_time": "2024-02-20T09:55:03.910378Z"
    }
   },
   "id": "b7b0491a990d42cd",
   "execution_count": 15
  },
  {
   "cell_type": "markdown",
   "source": [
    "Отсортируем столбцы в удобном порядке"
   ],
   "metadata": {
    "collapsed": false
   },
   "id": "66d6329b510537d8"
  },
  {
   "cell_type": "code",
   "outputs": [],
   "source": [
    "signature = signature[\n",
    "    ['id', 'region', 'region_eng', 'collected', 'needed', 'signatures', 'extra', 'latitude', 'longitude']]"
   ],
   "metadata": {
    "collapsed": false,
    "ExecuteTime": {
     "end_time": "2024-02-20T09:55:03.941378Z",
     "start_time": "2024-02-20T09:55:03.926378Z"
    }
   },
   "id": "eb8c97b44c75cbd7",
   "execution_count": 16
  },
  {
   "cell_type": "markdown",
   "source": [
    "## Построение графиков\n",
    "\n",
    "Построим тепловую карту по собранным подписям, с учетом ограничений на один регион"
   ],
   "metadata": {
    "collapsed": false
   },
   "id": "578ba1b837d30813"
  },
  {
   "cell_type": "code",
   "outputs": [],
   "source": [
    "def embed_map(m, file_name):\n",
    "    m.save(file_name)\n",
    "    return IFrame(file_name, width='100%', height='500px')"
   ],
   "metadata": {
    "collapsed": false,
    "ExecuteTime": {
     "end_time": "2024-02-20T09:55:03.957393Z",
     "start_time": "2024-02-20T09:55:03.942377Z"
    }
   },
   "id": "e199f3bde05b0261",
   "execution_count": 17
  },
  {
   "cell_type": "code",
   "outputs": [],
   "source": [
    "# Regions mapping\n",
    "rus_gdf = gpd.GeoDataFrame(signature, geometry=gpd.points_from_xy(geo_df.longitude, geo_df.latitude))\n",
    "rus_gdf.crs = {'init': 'epsg:4326'}\n",
    "\n",
    "rus_shape = rus_bnd_gdf[['NAME_1', 'TYPE_1', 'ID_1', 'geometry']]\n",
    "rus_gdf = gpd.sjoin(rus_gdf, rus_shape, how=\"left\", op='within')"
   ],
   "metadata": {
    "collapsed": false,
    "ExecuteTime": {
     "end_time": "2024-02-20T09:55:04.020469Z",
     "start_time": "2024-02-20T09:55:03.959378Z"
    }
   },
   "id": "64bc150fde4f803f",
   "execution_count": 18
  },
  {
   "cell_type": "code",
   "outputs": [
    {
     "data": {
      "text/plain": "<IPython.lib.display.IFrame at 0x26580136e20>",
      "text/html": "\n        <iframe\n            width=\"100%\"\n            height=\"500px\"\n            src=\"sing_map.html\"\n            frameborder=\"0\"\n            allowfullscreen\n            \n        ></iframe>\n        "
     },
     "execution_count": 19,
     "metadata": {},
     "output_type": "execute_result"
    }
   ],
   "source": [
    "sing_map = folium.Map(\n",
    "    location=[64.0914, 101.6016],\n",
    "    zoom_start=3\n",
    ")\n",
    "\n",
    "colormap = linear.RdYlGn_09.scale(rus_gdf.collected.min(), rus_gdf.collected.max())\n",
    "\n",
    "\n",
    "def color_mapper(id):\n",
    "    row = rus_gdf[rus_gdf.ID_1 == id].reset_index()\n",
    "    return row.collected.iloc[0]\n",
    "\n",
    "\n",
    "folium.GeoJson(\n",
    "    rus_bnd_gdf,\n",
    "    name='rusjson',\n",
    "    style_function=lambda feature: {\n",
    "        'fillColor': colormap(color_mapper(feature['properties']['ID_1'])),\n",
    "        'color': 'black',\n",
    "        'weight': 1,\n",
    "        'dashArray': '5, 5',\n",
    "        'fillOpacity': 0.9,\n",
    "    }\n",
    ").add_to(sing_map)\n",
    "\n",
    "for i in range(len(rus_gdf)):\n",
    "    folium.Circle(\n",
    "        radius=20000,\n",
    "        location=[rus_gdf.latitude[i], rus_gdf.longitude[i]],\n",
    "        popup=rus_gdf.region[i] + '\\nСобрали: {}, \\nСверх: {}, \\nНеобходимо: {}'.format(rus_gdf.collected[i],\n",
    "                                                                                        rus_gdf.extra[i],\n",
    "                                                                                        rus_gdf.needed[i]),\n",
    "        color='crimson',\n",
    "        fill=True,\n",
    "    ).add_to(sing_map)\n",
    "\n",
    "embed_map(sing_map, 'sing_map.html')"
   ],
   "metadata": {
    "collapsed": false,
    "ExecuteTime": {
     "end_time": "2024-02-20T09:55:07.985700Z",
     "start_time": "2024-02-20T09:55:04.021455Z"
    }
   },
   "id": "31a1e85408c9e44b",
   "execution_count": 19
  },
  {
   "cell_type": "markdown",
   "source": [
    "Полученную карту можно посмотреть по ссылке [https://andaisrin.github.io/kaggle_competitions/sing_map.html](https://andaisrin.github.io/kaggle_competitions/sing_map.html)"
   ],
   "metadata": {
    "collapsed": false
   },
   "id": "8ea59f21c3118c4d"
  }
 ],
 "metadata": {
  "kernelspec": {
   "display_name": "Python 3",
   "language": "python",
   "name": "python3"
  },
  "language_info": {
   "codemirror_mode": {
    "name": "ipython",
    "version": 2
   },
   "file_extension": ".py",
   "mimetype": "text/x-python",
   "name": "python",
   "nbconvert_exporter": "python",
   "pygments_lexer": "ipython2",
   "version": "2.7.6"
  }
 },
 "nbformat": 4,
 "nbformat_minor": 5
}
